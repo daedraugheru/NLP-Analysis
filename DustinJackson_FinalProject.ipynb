{
 "cells": [
  {
   "cell_type": "code",
   "execution_count": null,
   "id": "2d2dcc75-5912-4b07-922c-70dcc746ad0c",
   "metadata": {},
   "outputs": [],
   "source": []
  },
  {
   "cell_type": "code",
   "execution_count": 25,
   "id": "61b54120-7114-42af-a824-277a57ba9fa9",
   "metadata": {},
   "outputs": [],
   "source": [
    "import nltk\n",
    "import pandas as pd\n",
    "#from sklearn.linear_model import LogisticRegression"
   ]
  },
  {
   "cell_type": "code",
   "execution_count": 26,
   "id": "35a27ec2-abbf-4d13-ac1b-f0b262d21027",
   "metadata": {},
   "outputs": [],
   "source": [
    "# Reading in the train data into a dataframe\n",
    "kaggle_movie_reviews_df_original = pd.read_csv('C:/Users/daedr/OneDrive/Documents/Masters Courses/IT/IST664/FinalProject/FinalProjectData/FinalProjectData/kagglemoviereviews/corpus/train.tsv', sep='\\t')\n"
   ]
  },
  {
   "cell_type": "code",
   "execution_count": 24,
   "id": "8dd41f29-b873-497f-9b9a-a3b57116e9f3",
   "metadata": {},
   "outputs": [],
   "source": [
    "# defining a method to get tokenize a sentence.\n",
    "def get_tokens(str):\n",
    "    tokens = nltk.word_tokenize(str) \n",
    "    tokens = [w.lower( ) for w in tokens]\n",
    "    return tokens"
   ]
  },
  {
   "cell_type": "code",
   "execution_count": 22,
   "id": "1b0fb91b-e49c-4bcd-9d18-1d0d60bc5587",
   "metadata": {},
   "outputs": [],
   "source": [
    "def vectorize_feature_documents(feature):\n",
    "    vectorized_feature_document = []\n",
    "    for document in feature:\n",
    "        vectorized_feature_document.append(document[0])\n",
    "    return vectorized_feature_document"
   ]
  },
  {
   "cell_type": "code",
   "execution_count": 23,
   "id": "7abc74cf-0844-468a-a740-f1a5303c5d83",
   "metadata": {},
   "outputs": [],
   "source": [
    "def vectorize_feature_rating(feature):\n",
    "    vectorized_feature_rating = []\n",
    "    for rating in feature:\n",
    "        vectorized_feature_rating.append(rating[1])\n",
    "    return vectorized_feature_rating"
   ]
  },
  {
   "cell_type": "code",
   "execution_count": 275,
   "id": "6381699c-8865-451a-8a79-2c7cbac625b4",
   "metadata": {},
   "outputs": [],
   "source": [
    "def get_key_dictionary(dictionary, key_dictionary):\n",
    "    for key in dictionary:\n",
    "        if key not in key_dictionary.keys():\n",
    "            key_dictionary[key] = ''\n",
    "    return key_dictionary"
   ]
  },
  {
   "cell_type": "code",
   "execution_count": 276,
   "id": "56dc0f5d-7247-4f3c-bff4-51a3bfe15b08",
   "metadata": {},
   "outputs": [],
   "source": [
    "def get_all_keys_in_feature(feature):\n",
    "    key_dictionary = {}\n",
    "    for dictionary in feature:\n",
    "        get_key_dictionary(dictionary, key_dictionary)\n",
    "    return key_dictionary"
   ]
  },
  {
   "cell_type": "code",
   "execution_count": 277,
   "id": "06faa76c-a3fc-40a7-b440-c4ee115b244b",
   "metadata": {},
   "outputs": [],
   "source": [
    "def get_default_vectorization_list(all_existing_keys):\n",
    "    i = 0\n",
    "    default_vectorized_list = []\n",
    "    while i < len(all_existing_keys):\n",
    "        default_vectorized_list.append(0)\n",
    "        i += 1\n",
    "    return default_vectorized_list"
   ]
  },
  {
   "cell_type": "code",
   "execution_count": 301,
   "id": "335801ca-e691-45e2-b0fa-56c48de6014b",
   "metadata": {},
   "outputs": [],
   "source": [
    "# defining method to get a number of the most common used words\n",
    "def most_common_used_words(method_phrases, num_want):\n",
    "    kaggler_movie_reviews_tokens = []\n",
    "    i = 0\n",
    "    while i < len(method_phrases):\n",
    "        kaggler_movie_reviews_tokens.extend(get_tokens(method_phrases[i]))\n",
    "        i = i + 1\n",
    "    distributed_words = nltk.FreqDist(kaggler_movie_reviews_tokens)\n",
    "    most_used_words = distributed_words.most_common(num_want)\n",
    "    return most_used_words"
   ]
  },
  {
   "cell_type": "code",
   "execution_count": null,
   "id": "9b06ccfc-39c6-44dc-970a-17dee49dee3b",
   "metadata": {},
   "outputs": [],
   "source": []
  },
  {
   "cell_type": "code",
   "execution_count": null,
   "id": "24e51eb7-2a9f-4b6a-ab84-ba4e053f1181",
   "metadata": {},
   "outputs": [],
   "source": []
  },
  {
   "cell_type": "code",
   "execution_count": 74,
   "id": "14c20bc2-db40-465d-8151-8fb43bb816bf",
   "metadata": {},
   "outputs": [],
   "source": [
    "## BAG OF WORDS WITH LEMMATIZATION"
   ]
  },
  {
   "cell_type": "code",
   "execution_count": null,
   "id": "cba143a1-e4e8-4e51-8743-fbe5173431d0",
   "metadata": {},
   "outputs": [],
   "source": []
  },
  {
   "cell_type": "code",
   "execution_count": null,
   "id": "4ed47ce5-81a8-4956-9e37-a265381ab769",
   "metadata": {},
   "outputs": [],
   "source": []
  },
  {
   "cell_type": "code",
   "execution_count": 284,
   "id": "12bb4414-6ad9-471f-b0bd-c2c57bb36fff",
   "metadata": {},
   "outputs": [],
   "source": [
    "# converting a list of string back to a single string \n",
    "def rejoin_string(list_strings):\n",
    "    return \" \".join(list_strings)"
   ]
  },
  {
   "cell_type": "code",
   "execution_count": 285,
   "id": "ac8d8d57-f880-40ee-ad72-c7ab63ccb177",
   "metadata": {},
   "outputs": [],
   "source": [
    "def convert_list_of_list_to_list_of_string(list_of_list):\n",
    "    new_list = []\n",
    "    i = 0\n",
    "    while i < len(list_of_list):\n",
    "        new_list.append(rejoin_string(list_of_list[i]))\n",
    "        i = i + 1\n",
    "    return new_list"
   ]
  },
  {
   "cell_type": "code",
   "execution_count": 286,
   "id": "0c402c61-2c9b-42b8-931d-7c09e95fde67",
   "metadata": {},
   "outputs": [],
   "source": [
    "# Preprocessing/filtering of the data Lemmatization\n",
    "from nltk.corpus import wordnet\n",
    "phrases = kaggle_movie_reviews_df_original[\"Phrase\"].to_list()\n",
    "lemmatizer = nltk.WordNetLemmatizer()\n",
    "i = 0\n",
    "phrases_lemmatized = []\n",
    "while i < len(phrases):\n",
    "    str = get_tokens(phrases[i])\n",
    "    phrase_lemmatized = [ lemmatizer.lemmatize(word) for word in str ]\n",
    "    phrases_lemmatized.append(phrase_lemmatized)\n",
    "    i = i + 1"
   ]
  },
  {
   "cell_type": "code",
   "execution_count": 287,
   "id": "043161f9-f861-45a7-afa2-5b9d68b8b1e3",
   "metadata": {},
   "outputs": [],
   "source": [
    "vocabulary = set()\n",
    "bag_of_words = []\n",
    "\n",
    "i = 0\n",
    "while i < len(phrases_lemmatized):\n",
    "    counts = {}\n",
    "    vocabulary.update(phrases_lemmatized[i])\n",
    "    for token in phrases_lemmatized[i]:\n",
    "        if token in counts:\n",
    "            counts[token] += 1\n",
    "        else:\n",
    "            counts[token] = 1\n",
    "    bag_of_words.append(counts)\n",
    "    i += 1\n",
    "\n"
   ]
  },
  {
   "cell_type": "code",
   "execution_count": 288,
   "id": "8a5afbc1-76ba-4dde-bdae-ee4e6bb85740",
   "metadata": {},
   "outputs": [],
   "source": [
    "sentiment = kaggle_movie_reviews_df_original[\"Sentiment\"].to_list()"
   ]
  },
  {
   "cell_type": "code",
   "execution_count": 289,
   "id": "690f1eb9-21d0-4cd4-b192-38c17e8e3241",
   "metadata": {},
   "outputs": [],
   "source": [
    "feature_set = []\n",
    "i = 0\n",
    "while i < len(bag_of_words):\n",
    "    feature_set.append( (bag_of_words[i], sentiment[i]) )\n",
    "    i += 1"
   ]
  },
  {
   "cell_type": "code",
   "execution_count": 81,
   "id": "cf363b06-b76e-45cc-b082-e183ca49aa92",
   "metadata": {},
   "outputs": [],
   "source": [
    "# split data into a training set and a test set, using a 90%/10% split\n",
    "size = int(len(feature_set) * 0.1)\n",
    "train_set, test_set = feature_set[size:], feature_set[:size]"
   ]
  },
  {
   "cell_type": "code",
   "execution_count": 82,
   "id": "32f8674b-25fb-4a48-97d2-d021fcee4c0a",
   "metadata": {},
   "outputs": [],
   "source": [
    "classifier = nltk.NaiveBayesClassifier.train(train_set)"
   ]
  },
  {
   "cell_type": "code",
   "execution_count": 83,
   "id": "08eee390-a3a3-4880-b2d8-14e60d43ac3a",
   "metadata": {},
   "outputs": [
    {
     "name": "stdout",
     "output_type": "stream",
     "text": [
      "0.3892733564013841\n"
     ]
    }
   ],
   "source": [
    "print(nltk.classify.accuracy(classifier, test_set))"
   ]
  },
  {
   "cell_type": "code",
   "execution_count": 10,
   "id": "dbc15e29-4650-42b5-ba30-0f667dba1f66",
   "metadata": {},
   "outputs": [],
   "source": [
    "## cross-validation ##\n",
    "# this function takes the number of folds, the feature sets\n",
    "# it iterates over the folds, using different sections for training and testing in turn\n",
    "# it prints the accuracy for each fold and the average accuracy at the end\n",
    "def cross_validation_accuracy(num_folds, featuresets):\n",
    "    subset_size = int(len(featuresets)/num_folds)\n",
    "    print('Each fold size:', subset_size)\n",
    "    accuracy_list = []\n",
    "    # iterate over the folds\n",
    "    for i in range(num_folds):\n",
    "        test_this_round = featuresets[(i*subset_size):][:subset_size]\n",
    "        train_this_round = featuresets[:(i*subset_size)] + featuresets[((i + 1) * subset_size):]\n",
    "        # train using train_this_round\n",
    "        classifier = nltk.NaiveBayesClassifier.train(train_this_round)\n",
    "        # evaluate against teset_this_round save accuracy\n",
    "        accuracy_this_round = nltk.classify.accuracy(classifier, test_this_round)\n",
    "        print(i, accuracy_this_round)\n",
    "        accuracy_list.append(accuracy_this_round)\n",
    "    # find mean accuracy over all rounds\n",
    "    print('mean accuracy', sum(accuracy_list) / num_folds)"
   ]
  },
  {
   "cell_type": "code",
   "execution_count": 85,
   "id": "bd35eaec-cd5d-4f2d-b197-58efe9b493be",
   "metadata": {},
   "outputs": [
    {
     "name": "stdout",
     "output_type": "stream",
     "text": [
      "Each fold size: 15606\n",
      "0 0.3892733564013841\n",
      "1 0.3602460592079969\n",
      "2 0.3571062411892862\n",
      "3 0.342240164039472\n",
      "4 0.33871587850826607\n",
      "5 0.33384595668332695\n",
      "6 0.330642060745867\n",
      "7 0.32320902217095987\n",
      "8 0.3307061386646162\n",
      "9 0.3229527104959631\n",
      "mean accuracy 0.34289375881071393\n"
     ]
    }
   ],
   "source": [
    "# perform the cross-validation on the featuresets with word features and generate accuracy\n",
    "num_folds = 10\n",
    "cross_validation_accuracy(num_folds, feature_set)"
   ]
  },
  {
   "cell_type": "code",
   "execution_count": 86,
   "id": "586d4344-ccdf-4c35-b4de-f69dd79eb092",
   "metadata": {},
   "outputs": [],
   "source": [
    "goldlist = []\n",
    "predictedlist = []\n",
    "for (features, label) in test_set:\n",
    "    goldlist.append(label)\n",
    "    predictedlist.append(classifier.classify(features))"
   ]
  },
  {
   "cell_type": "code",
   "execution_count": 11,
   "id": "9dda5f02-1770-4c34-9260-f90af02d8f50",
   "metadata": {},
   "outputs": [],
   "source": [
    "# Fucntion to compute precision, recall and F1 for each label\n",
    "# and for any number of labels\n",
    "# Input: list of gold labels, list of predicted labels (in same order)\n",
    "# Output: prints precision, recall and F1 for each label\n",
    "def eval_measures(gold, predicted):\n",
    "    # get a list of labels\n",
    "    labels = set(gold)\n",
    "    labels = [elem for elem in labels]\n",
    "    # these lists have values for each label\n",
    "    recall_list = []\n",
    "    precision_list = []\n",
    "    F1_list = []\n",
    "    for lab in labels:\n",
    "        # for each label, compare gold and predicted lists and compute values\n",
    "        TP = FP = FN = TN = 0\n",
    "        for i, val in enumerate(gold):\n",
    "            if val == lab and predicted[i] == lab: TP += 1\n",
    "            if val == lab and predicted[i] != lab: FN += 1\n",
    "            if val != lab and predicted[i] == lab: FP += 1\n",
    "            if val != lab and predicted[i] != lab: TN += 1\n",
    "        # use these to compute recall, precision, F1\n",
    "        if TP != 0 or FP != 0:\n",
    "            recall = TP / (TP + FP)\n",
    "        else:\n",
    "            recall = 0\n",
    "        precision = TP / (TP + FN)\n",
    "        recall_list.append(recall)\n",
    "        precision_list.append(precision)\n",
    "        if recall != 0 or precision != 0:\n",
    "            F1_list.append( 2 * (recall * precision) / (recall + precision))\n",
    "        else:\n",
    "            F1_list.append(0)\n",
    "    # the evaluation measures in a table with one row per label\n",
    "    print('\\tPrecision\\tRecall\\t\\tF1')\n",
    "    # print measures for each label\n",
    "    for i, lab in enumerate(labels):\n",
    "        print(lab, '\\t', \"{:10.3f}\".format(precision_list[i]), \\\n",
    "              \"{:10.3f}\".format(recall_list[i]), \"{:10.3f}\".format(F1_list[i]))"
   ]
  },
  {
   "cell_type": "code",
   "execution_count": 88,
   "id": "11a4bc78-6e10-4a3e-a9cb-715cffdea1cf",
   "metadata": {},
   "outputs": [
    {
     "name": "stdout",
     "output_type": "stream",
     "text": [
      "\tPrecision\tRecall\t\tF1\n",
      "0 \t      0.687      0.134      0.224\n",
      "1 \t      0.339      0.274      0.303\n",
      "2 \t      0.363      0.824      0.504\n",
      "3 \t      0.397      0.333      0.362\n",
      "4 \t      0.592      0.221      0.322\n"
     ]
    }
   ],
   "source": [
    "# call the function with our data\n",
    "eval_measures(goldlist, predictedlist)"
   ]
  },
  {
   "cell_type": "code",
   "execution_count": null,
   "id": "53e82891-0cb3-42a7-b955-159e1a3fdcbb",
   "metadata": {},
   "outputs": [],
   "source": []
  },
  {
   "cell_type": "code",
   "execution_count": null,
   "id": "a246bc33-689b-4790-92ca-2cdc8b13e789",
   "metadata": {},
   "outputs": [],
   "source": []
  },
  {
   "cell_type": "code",
   "execution_count": null,
   "id": "0b581689-2c67-4182-8ffe-a1f129d32adc",
   "metadata": {},
   "outputs": [],
   "source": [
    "# SciKit BAG OF WORDS "
   ]
  },
  {
   "cell_type": "code",
   "execution_count": null,
   "id": "0df14691-07bd-4af1-8a87-50aa1e4696ee",
   "metadata": {},
   "outputs": [],
   "source": []
  },
  {
   "cell_type": "code",
   "execution_count": null,
   "id": "cc967e98-9ec4-41cb-8aae-ac2d5f81f337",
   "metadata": {},
   "outputs": [],
   "source": []
  },
  {
   "cell_type": "code",
   "execution_count": null,
   "id": "54e549ff-db70-49fa-97fb-136e1f7b9fec",
   "metadata": {},
   "outputs": [],
   "source": [
    "# Base functions for BOW SciKit"
   ]
  },
  {
   "cell_type": "code",
   "execution_count": null,
   "id": "de1a4ea2-f93a-4e51-a357-31280dad4f3f",
   "metadata": {},
   "outputs": [],
   "source": []
  },
  {
   "cell_type": "code",
   "execution_count": 306,
   "id": "ed2d6180-80ea-4e2c-ab65-d6d424024758",
   "metadata": {},
   "outputs": [],
   "source": [
    "def convert_list_to_dictionary(key_list):\n",
    "    key_dictionary = {}\n",
    "    for item in key_list:\n",
    "        key_dictionary[item] = ''\n",
    "    return key_dictionary"
   ]
  },
  {
   "cell_type": "code",
   "execution_count": 321,
   "id": "d8af6940-f5cf-4650-bde4-4f0470492419",
   "metadata": {},
   "outputs": [],
   "source": [
    "def convert_dictionary_to_scikit_usable_list_uneven_lists_BOW(dictionary, all_existing_keys):\n",
    "    usable_list = get_default_vectorization_list(all_existing_keys)\n",
    "    for key in dictionary:\n",
    "        if key in all_existing_keys:\n",
    "            usable_list[list(all_existing_keys.keys()).index(key)] = dictionary[key]\n",
    "    return usable_list"
   ]
  },
  {
   "cell_type": "code",
   "execution_count": 322,
   "id": "785de7a2-d371-4c79-b8b7-1de3d5ea59c7",
   "metadata": {},
   "outputs": [],
   "source": [
    "def convert_list_of_dictionary_to_scikit_usable_list_Uneven_Lists_BOW(list_dictionary):\n",
    "    usable = []\n",
    "    keys_for_bag_of_words = most_common_used_words(phrases, 1000)\n",
    "    keys_for_bag_of_words = convert_list_to_dictionary(keys_for_bag_of_words)\n",
    "    for dictionary in list_dictionary:\n",
    "        usable.append(convert_dictionary_to_scikit_usable_list_uneven_lists_BOW(dictionary, keys_for_bag_of_words))\n",
    "    return usable  "
   ]
  },
  {
   "cell_type": "code",
   "execution_count": null,
   "id": "131d5329-f4c0-474d-9aff-490d7accc4d7",
   "metadata": {},
   "outputs": [],
   "source": []
  },
  {
   "cell_type": "code",
   "execution_count": null,
   "id": "ab10ce39-abd2-463a-ac89-f50192a88468",
   "metadata": {},
   "outputs": [],
   "source": []
  },
  {
   "cell_type": "code",
   "execution_count": 323,
   "id": "01b3133a-4e3c-4194-a077-0e36e7cd0ed9",
   "metadata": {},
   "outputs": [],
   "source": [
    "# Regression"
   ]
  },
  {
   "cell_type": "code",
   "execution_count": 324,
   "id": "cb580db5-2dab-40b2-a352-c05a4ca6dd23",
   "metadata": {},
   "outputs": [],
   "source": [
    "from sklearn.linear_model import LogisticRegression"
   ]
  },
  {
   "cell_type": "code",
   "execution_count": 325,
   "id": "7370dd97-2249-4b72-b1cc-61d3dc6138c1",
   "metadata": {},
   "outputs": [],
   "source": [
    "vectorized_documents = vectorize_feature_documents(feature_set)\n",
    "vectorized_documents = convert_list_of_dictionary_to_scikit_usable_list_Uneven_Lists_BOW(vectorized_documents)"
   ]
  },
  {
   "cell_type": "code",
   "execution_count": 326,
   "id": "b4b20b9f-a893-4e12-8dc7-671e2d6787c0",
   "metadata": {},
   "outputs": [],
   "source": [
    "vectorized_rating = vectorize_feature_rating(feature_set)"
   ]
  },
  {
   "cell_type": "code",
   "execution_count": 327,
   "id": "72889976-4a2f-463b-96ac-28a3cb347bdb",
   "metadata": {},
   "outputs": [],
   "source": [
    "size = int(len(vectorized_documents) * 0.1)\n",
    "train_predictors, test_predictors = vectorized_documents[size:], vectorized_documents[:size]"
   ]
  },
  {
   "cell_type": "code",
   "execution_count": 328,
   "id": "6a6e1b4f-c4c0-4277-b831-e27e50453b5d",
   "metadata": {},
   "outputs": [],
   "source": [
    "size = int(len(vectorized_rating) * 0.1)\n",
    "train_rating, test_rating = vectorized_rating[size:], vectorized_rating[:size]"
   ]
  },
  {
   "cell_type": "code",
   "execution_count": 329,
   "id": "4e720133-2d9d-4f56-85ab-b171121da8f8",
   "metadata": {},
   "outputs": [],
   "source": [
    "clf = LogisticRegression(C=1.0, solver='lbfgs', multi_class='ovr')"
   ]
  },
  {
   "cell_type": "code",
   "execution_count": 330,
   "id": "fc931af2-9946-404c-a01b-800a3f8ce120",
   "metadata": {},
   "outputs": [
    {
     "data": {
      "text/html": [
       "<style>#sk-container-id-7 {color: black;background-color: white;}#sk-container-id-7 pre{padding: 0;}#sk-container-id-7 div.sk-toggleable {background-color: white;}#sk-container-id-7 label.sk-toggleable__label {cursor: pointer;display: block;width: 100%;margin-bottom: 0;padding: 0.3em;box-sizing: border-box;text-align: center;}#sk-container-id-7 label.sk-toggleable__label-arrow:before {content: \"▸\";float: left;margin-right: 0.25em;color: #696969;}#sk-container-id-7 label.sk-toggleable__label-arrow:hover:before {color: black;}#sk-container-id-7 div.sk-estimator:hover label.sk-toggleable__label-arrow:before {color: black;}#sk-container-id-7 div.sk-toggleable__content {max-height: 0;max-width: 0;overflow: hidden;text-align: left;background-color: #f0f8ff;}#sk-container-id-7 div.sk-toggleable__content pre {margin: 0.2em;color: black;border-radius: 0.25em;background-color: #f0f8ff;}#sk-container-id-7 input.sk-toggleable__control:checked~div.sk-toggleable__content {max-height: 200px;max-width: 100%;overflow: auto;}#sk-container-id-7 input.sk-toggleable__control:checked~label.sk-toggleable__label-arrow:before {content: \"▾\";}#sk-container-id-7 div.sk-estimator input.sk-toggleable__control:checked~label.sk-toggleable__label {background-color: #d4ebff;}#sk-container-id-7 div.sk-label input.sk-toggleable__control:checked~label.sk-toggleable__label {background-color: #d4ebff;}#sk-container-id-7 input.sk-hidden--visually {border: 0;clip: rect(1px 1px 1px 1px);clip: rect(1px, 1px, 1px, 1px);height: 1px;margin: -1px;overflow: hidden;padding: 0;position: absolute;width: 1px;}#sk-container-id-7 div.sk-estimator {font-family: monospace;background-color: #f0f8ff;border: 1px dotted black;border-radius: 0.25em;box-sizing: border-box;margin-bottom: 0.5em;}#sk-container-id-7 div.sk-estimator:hover {background-color: #d4ebff;}#sk-container-id-7 div.sk-parallel-item::after {content: \"\";width: 100%;border-bottom: 1px solid gray;flex-grow: 1;}#sk-container-id-7 div.sk-label:hover label.sk-toggleable__label {background-color: #d4ebff;}#sk-container-id-7 div.sk-serial::before {content: \"\";position: absolute;border-left: 1px solid gray;box-sizing: border-box;top: 0;bottom: 0;left: 50%;z-index: 0;}#sk-container-id-7 div.sk-serial {display: flex;flex-direction: column;align-items: center;background-color: white;padding-right: 0.2em;padding-left: 0.2em;position: relative;}#sk-container-id-7 div.sk-item {position: relative;z-index: 1;}#sk-container-id-7 div.sk-parallel {display: flex;align-items: stretch;justify-content: center;background-color: white;position: relative;}#sk-container-id-7 div.sk-item::before, #sk-container-id-7 div.sk-parallel-item::before {content: \"\";position: absolute;border-left: 1px solid gray;box-sizing: border-box;top: 0;bottom: 0;left: 50%;z-index: -1;}#sk-container-id-7 div.sk-parallel-item {display: flex;flex-direction: column;z-index: 1;position: relative;background-color: white;}#sk-container-id-7 div.sk-parallel-item:first-child::after {align-self: flex-end;width: 50%;}#sk-container-id-7 div.sk-parallel-item:last-child::after {align-self: flex-start;width: 50%;}#sk-container-id-7 div.sk-parallel-item:only-child::after {width: 0;}#sk-container-id-7 div.sk-dashed-wrapped {border: 1px dashed gray;margin: 0 0.4em 0.5em 0.4em;box-sizing: border-box;padding-bottom: 0.4em;background-color: white;}#sk-container-id-7 div.sk-label label {font-family: monospace;font-weight: bold;display: inline-block;line-height: 1.2em;}#sk-container-id-7 div.sk-label-container {text-align: center;}#sk-container-id-7 div.sk-container {/* jupyter's `normalize.less` sets `[hidden] { display: none; }` but bootstrap.min.css set `[hidden] { display: none !important; }` so we also need the `!important` here to be able to override the default hidden behavior on the sphinx rendered scikit-learn.org. See: https://github.com/scikit-learn/scikit-learn/issues/21755 */display: inline-block !important;position: relative;}#sk-container-id-7 div.sk-text-repr-fallback {display: none;}</style><div id=\"sk-container-id-7\" class=\"sk-top-container\"><div class=\"sk-text-repr-fallback\"><pre>LogisticRegression(multi_class=&#x27;ovr&#x27;)</pre><b>In a Jupyter environment, please rerun this cell to show the HTML representation or trust the notebook. <br />On GitHub, the HTML representation is unable to render, please try loading this page with nbviewer.org.</b></div><div class=\"sk-container\" hidden><div class=\"sk-item\"><div class=\"sk-estimator sk-toggleable\"><input class=\"sk-toggleable__control sk-hidden--visually\" id=\"sk-estimator-id-7\" type=\"checkbox\" checked><label for=\"sk-estimator-id-7\" class=\"sk-toggleable__label sk-toggleable__label-arrow\">LogisticRegression</label><div class=\"sk-toggleable__content\"><pre>LogisticRegression(multi_class=&#x27;ovr&#x27;)</pre></div></div></div></div></div>"
      ],
      "text/plain": [
       "LogisticRegression(multi_class='ovr')"
      ]
     },
     "execution_count": 330,
     "metadata": {},
     "output_type": "execute_result"
    }
   ],
   "source": [
    "clf.fit(train_predictors, train_rating)"
   ]
  },
  {
   "cell_type": "code",
   "execution_count": 331,
   "id": "cb11856a-a19a-4e2d-bf9d-058a248beff1",
   "metadata": {},
   "outputs": [
    {
     "name": "stdout",
     "output_type": "stream",
     "text": [
      "Accuracy: 0.5577342047930284\n"
     ]
    }
   ],
   "source": [
    "score = clf.score(test_predictors, test_rating)\n",
    "print(\"Accuracy:\", score)"
   ]
  },
  {
   "cell_type": "code",
   "execution_count": 299,
   "id": "abc76efc-ca08-4d10-bfc5-c4166662b87a",
   "metadata": {},
   "outputs": [],
   "source": [
    "# Neural Network"
   ]
  },
  {
   "cell_type": "code",
   "execution_count": 332,
   "id": "657a67cd-57fc-4cf8-a8b0-e84664f1c64c",
   "metadata": {},
   "outputs": [],
   "source": [
    "import sklearn.neural_network \n",
    "\n",
    "neural_network = sklearn.neural_network.MLPClassifier(hidden_layer_sizes=(10, 10), activation='relu')\n",
    "neural_network.fit(train_predictors, train_rating) \n",
    "y_pred = neural_network.predict(test_predictors)"
   ]
  },
  {
   "cell_type": "code",
   "execution_count": 333,
   "id": "787c9b6c-3f4b-4e49-bf84-7b40918acb65",
   "metadata": {},
   "outputs": [],
   "source": [
    "from sklearn.metrics import accuracy_score"
   ]
  },
  {
   "cell_type": "code",
   "execution_count": 334,
   "id": "a6955ee7-dcf4-4f3d-bd6b-ed03baf388a8",
   "metadata": {},
   "outputs": [
    {
     "data": {
      "text/plain": [
       "0.5577342047930284"
      ]
     },
     "execution_count": 334,
     "metadata": {},
     "output_type": "execute_result"
    }
   ],
   "source": [
    "accuracy_score(test_rating, y_pred)"
   ]
  },
  {
   "cell_type": "code",
   "execution_count": 335,
   "id": "6e25e4d4-9496-49c9-864e-99292cc8405f",
   "metadata": {},
   "outputs": [],
   "source": [
    "# Dependency Tree"
   ]
  },
  {
   "cell_type": "code",
   "execution_count": 336,
   "id": "febddc3f-c894-4751-b428-0c8162c67fbd",
   "metadata": {},
   "outputs": [
    {
     "name": "stdout",
     "output_type": "stream",
     "text": [
      "Accuracy: 0.5577342047930284\n"
     ]
    }
   ],
   "source": [
    "from sklearn.tree import DecisionTreeClassifier\n",
    "clf = DecisionTreeClassifier()\n",
    "clf.fit(train_predictors, train_rating)\n",
    "y_pred = clf.predict(test_predictors)\n",
    "accuracy = accuracy_score(test_rating, y_pred)\n",
    "\n",
    "print('Accuracy:', accuracy)"
   ]
  },
  {
   "cell_type": "code",
   "execution_count": null,
   "id": "192bc4f0-d3ee-481e-ab5e-fc4afb34a526",
   "metadata": {},
   "outputs": [],
   "source": []
  },
  {
   "cell_type": "code",
   "execution_count": null,
   "id": "08bd159b-bb58-4209-9af6-60b0bfdd8288",
   "metadata": {},
   "outputs": [],
   "source": []
  },
  {
   "cell_type": "code",
   "execution_count": 19,
   "id": "d735d5ce-24a9-4b96-94a4-2c147e4875cb",
   "metadata": {},
   "outputs": [],
   "source": [
    "## BAG OF WORDS NO FILTERING"
   ]
  },
  {
   "cell_type": "code",
   "execution_count": null,
   "id": "be59c6eb-5d44-49da-86bf-3aa5d18a2a55",
   "metadata": {},
   "outputs": [],
   "source": []
  },
  {
   "cell_type": "code",
   "execution_count": null,
   "id": "472c6348-27b9-4c1b-b491-414fd5db5b8a",
   "metadata": {},
   "outputs": [],
   "source": []
  },
  {
   "cell_type": "code",
   "execution_count": 352,
   "id": "cb175aaf-a3e8-4776-9766-2f64ef321dfd",
   "metadata": {},
   "outputs": [],
   "source": [
    "vocabulary = set()\n",
    "bag_of_words = []\n",
    "\n",
    "i = 0\n",
    "while i < len(phrases):\n",
    "    new_phrases = get_tokens(phrases[i])\n",
    "    counts = {}\n",
    "    vocabulary.update(new_phrases)\n",
    "    for token in new_phrases:\n",
    "        if token in counts:\n",
    "            counts[token] += 1\n",
    "        else:\n",
    "            counts[token] = 1\n",
    "    bag_of_words.append(counts)\n",
    "    i += 1\n",
    "\n"
   ]
  },
  {
   "cell_type": "code",
   "execution_count": 353,
   "id": "9f573b95-150b-4eeb-94bb-8fa186013092",
   "metadata": {},
   "outputs": [],
   "source": [
    "feature_set = []\n",
    "i = 0\n",
    "while i < len(bag_of_words):\n",
    "    feature_set.append( (bag_of_words[i], sentiment[i]) )\n",
    "    i += 1"
   ]
  },
  {
   "cell_type": "code",
   "execution_count": 23,
   "id": "c957c32e-d5da-4ae0-8df6-c86064b764e0",
   "metadata": {},
   "outputs": [],
   "source": [
    "# split data into a training set and a test set, using a 90%/10% split\n",
    "size = int(len(feature_set) * 0.1)\n",
    "train_set, test_set = feature_set[size:], feature_set[:size]"
   ]
  },
  {
   "cell_type": "code",
   "execution_count": 24,
   "id": "3c458d14-4a65-4979-8f28-76e2b27f52b2",
   "metadata": {},
   "outputs": [],
   "source": [
    "classifier = nltk.NaiveBayesClassifier.train(train_set)"
   ]
  },
  {
   "cell_type": "code",
   "execution_count": 25,
   "id": "ff1706de-e79f-4726-9302-a95165419462",
   "metadata": {},
   "outputs": [
    {
     "name": "stdout",
     "output_type": "stream",
     "text": [
      "0.38767140843265413\n"
     ]
    }
   ],
   "source": [
    "print(nltk.classify.accuracy(classifier, test_set))"
   ]
  },
  {
   "cell_type": "code",
   "execution_count": 26,
   "id": "f9236a7d-c4cc-409a-9381-67c475c3f7a5",
   "metadata": {},
   "outputs": [
    {
     "name": "stdout",
     "output_type": "stream",
     "text": [
      "Each fold size: 15606\n",
      "0 0.38767140843265413\n",
      "1 0.357362552864283\n",
      "2 0.356080994489299\n",
      "3 0.3410867615019864\n",
      "4 0.34371395617070355\n",
      "5 0.3311546840958606\n",
      "6 0.3304498269896194\n",
      "7 0.3246828143021915\n",
      "8 0.33211585287709855\n",
      "9 0.32436242470844545\n",
      "mean accuracy 0.34286812764321417\n"
     ]
    }
   ],
   "source": [
    "num_folds = 10\n",
    "cross_validation_accuracy(num_folds, feature_set)"
   ]
  },
  {
   "cell_type": "code",
   "execution_count": 27,
   "id": "a7a1685a-9ee8-451e-be43-73d8fdfea4a8",
   "metadata": {},
   "outputs": [],
   "source": [
    "goldlist = []\n",
    "predictedlist = []\n",
    "for (features, label) in test_set:\n",
    "    goldlist.append(label)\n",
    "    predictedlist.append(classifier.classify(features))"
   ]
  },
  {
   "cell_type": "code",
   "execution_count": 28,
   "id": "d12cd2f8-ccf4-4d42-b53f-8d2ed58b6795",
   "metadata": {},
   "outputs": [
    {
     "name": "stdout",
     "output_type": "stream",
     "text": [
      "\tPrecision\tRecall\t\tF1\n",
      "0 \t      0.685      0.134      0.224\n",
      "1 \t      0.337      0.270      0.300\n",
      "2 \t      0.361      0.822      0.502\n",
      "3 \t      0.396      0.331      0.360\n",
      "4 \t      0.592      0.222      0.323\n"
     ]
    }
   ],
   "source": [
    "eval_measures(goldlist, predictedlist)"
   ]
  },
  {
   "cell_type": "code",
   "execution_count": null,
   "id": "c3344f53-6c63-48cb-bf45-46a11259106f",
   "metadata": {},
   "outputs": [],
   "source": []
  },
  {
   "cell_type": "code",
   "execution_count": null,
   "id": "8245c627-f730-4a65-81cb-ff6a48480a2d",
   "metadata": {},
   "outputs": [],
   "source": []
  },
  {
   "cell_type": "code",
   "execution_count": null,
   "id": "fa0812cf-8444-463c-b06a-0018b45e8faf",
   "metadata": {},
   "outputs": [],
   "source": [
    "# Bag of Word no Filtering SciKit"
   ]
  },
  {
   "cell_type": "code",
   "execution_count": null,
   "id": "dcf7ba2d-2081-4378-b28a-908f5b0db6b6",
   "metadata": {},
   "outputs": [],
   "source": []
  },
  {
   "cell_type": "code",
   "execution_count": null,
   "id": "7b7d209f-8e3f-4c6a-9287-d456b4667a2a",
   "metadata": {},
   "outputs": [],
   "source": []
  },
  {
   "cell_type": "code",
   "execution_count": null,
   "id": "600fbaf3-fcaa-49ae-9ee7-9f48acc01691",
   "metadata": {},
   "outputs": [],
   "source": [
    "# Reggression"
   ]
  },
  {
   "cell_type": "code",
   "execution_count": 354,
   "id": "be7d3ce2-ad65-4067-a759-3a793aae55a8",
   "metadata": {},
   "outputs": [],
   "source": [
    "from sklearn.linear_model import LogisticRegression"
   ]
  },
  {
   "cell_type": "code",
   "execution_count": 355,
   "id": "ab3d251a-6996-4504-9e2f-635ea10ba3fa",
   "metadata": {},
   "outputs": [],
   "source": [
    "vectorized_documents = vectorize_feature_documents(feature_set)\n",
    "vectorized_documents = convert_list_of_dictionary_to_scikit_usable_list_Uneven_Lists_BOW(vectorized_documents)"
   ]
  },
  {
   "cell_type": "code",
   "execution_count": 356,
   "id": "8f982e9a-4750-438a-a79b-a3f67f199146",
   "metadata": {},
   "outputs": [],
   "source": [
    "vectorized_rating = vectorize_feature_rating(feature_set)"
   ]
  },
  {
   "cell_type": "code",
   "execution_count": 357,
   "id": "4b736184-3df0-4136-ab8c-8251078eac17",
   "metadata": {},
   "outputs": [],
   "source": [
    "size = int(len(vectorized_documents) * 0.1)\n",
    "train_predictors, test_predictors = vectorized_documents[size:], vectorized_documents[:size]"
   ]
  },
  {
   "cell_type": "code",
   "execution_count": 358,
   "id": "a191f727-7791-4059-8884-3bff7b3443a4",
   "metadata": {},
   "outputs": [],
   "source": [
    "size = int(len(vectorized_rating) * 0.1)\n",
    "train_rating, test_rating = vectorized_rating[size:], vectorized_rating[:size]"
   ]
  },
  {
   "cell_type": "code",
   "execution_count": 359,
   "id": "9370f883-5d64-4944-b8fa-028d2042c77c",
   "metadata": {},
   "outputs": [],
   "source": [
    "clf = LogisticRegression(C=1.0, solver='lbfgs', multi_class='ovr')"
   ]
  },
  {
   "cell_type": "code",
   "execution_count": 360,
   "id": "6469412d-7dd5-46a3-8198-91b73f3a568e",
   "metadata": {},
   "outputs": [
    {
     "data": {
      "text/html": [
       "<style>#sk-container-id-9 {color: black;background-color: white;}#sk-container-id-9 pre{padding: 0;}#sk-container-id-9 div.sk-toggleable {background-color: white;}#sk-container-id-9 label.sk-toggleable__label {cursor: pointer;display: block;width: 100%;margin-bottom: 0;padding: 0.3em;box-sizing: border-box;text-align: center;}#sk-container-id-9 label.sk-toggleable__label-arrow:before {content: \"▸\";float: left;margin-right: 0.25em;color: #696969;}#sk-container-id-9 label.sk-toggleable__label-arrow:hover:before {color: black;}#sk-container-id-9 div.sk-estimator:hover label.sk-toggleable__label-arrow:before {color: black;}#sk-container-id-9 div.sk-toggleable__content {max-height: 0;max-width: 0;overflow: hidden;text-align: left;background-color: #f0f8ff;}#sk-container-id-9 div.sk-toggleable__content pre {margin: 0.2em;color: black;border-radius: 0.25em;background-color: #f0f8ff;}#sk-container-id-9 input.sk-toggleable__control:checked~div.sk-toggleable__content {max-height: 200px;max-width: 100%;overflow: auto;}#sk-container-id-9 input.sk-toggleable__control:checked~label.sk-toggleable__label-arrow:before {content: \"▾\";}#sk-container-id-9 div.sk-estimator input.sk-toggleable__control:checked~label.sk-toggleable__label {background-color: #d4ebff;}#sk-container-id-9 div.sk-label input.sk-toggleable__control:checked~label.sk-toggleable__label {background-color: #d4ebff;}#sk-container-id-9 input.sk-hidden--visually {border: 0;clip: rect(1px 1px 1px 1px);clip: rect(1px, 1px, 1px, 1px);height: 1px;margin: -1px;overflow: hidden;padding: 0;position: absolute;width: 1px;}#sk-container-id-9 div.sk-estimator {font-family: monospace;background-color: #f0f8ff;border: 1px dotted black;border-radius: 0.25em;box-sizing: border-box;margin-bottom: 0.5em;}#sk-container-id-9 div.sk-estimator:hover {background-color: #d4ebff;}#sk-container-id-9 div.sk-parallel-item::after {content: \"\";width: 100%;border-bottom: 1px solid gray;flex-grow: 1;}#sk-container-id-9 div.sk-label:hover label.sk-toggleable__label {background-color: #d4ebff;}#sk-container-id-9 div.sk-serial::before {content: \"\";position: absolute;border-left: 1px solid gray;box-sizing: border-box;top: 0;bottom: 0;left: 50%;z-index: 0;}#sk-container-id-9 div.sk-serial {display: flex;flex-direction: column;align-items: center;background-color: white;padding-right: 0.2em;padding-left: 0.2em;position: relative;}#sk-container-id-9 div.sk-item {position: relative;z-index: 1;}#sk-container-id-9 div.sk-parallel {display: flex;align-items: stretch;justify-content: center;background-color: white;position: relative;}#sk-container-id-9 div.sk-item::before, #sk-container-id-9 div.sk-parallel-item::before {content: \"\";position: absolute;border-left: 1px solid gray;box-sizing: border-box;top: 0;bottom: 0;left: 50%;z-index: -1;}#sk-container-id-9 div.sk-parallel-item {display: flex;flex-direction: column;z-index: 1;position: relative;background-color: white;}#sk-container-id-9 div.sk-parallel-item:first-child::after {align-self: flex-end;width: 50%;}#sk-container-id-9 div.sk-parallel-item:last-child::after {align-self: flex-start;width: 50%;}#sk-container-id-9 div.sk-parallel-item:only-child::after {width: 0;}#sk-container-id-9 div.sk-dashed-wrapped {border: 1px dashed gray;margin: 0 0.4em 0.5em 0.4em;box-sizing: border-box;padding-bottom: 0.4em;background-color: white;}#sk-container-id-9 div.sk-label label {font-family: monospace;font-weight: bold;display: inline-block;line-height: 1.2em;}#sk-container-id-9 div.sk-label-container {text-align: center;}#sk-container-id-9 div.sk-container {/* jupyter's `normalize.less` sets `[hidden] { display: none; }` but bootstrap.min.css set `[hidden] { display: none !important; }` so we also need the `!important` here to be able to override the default hidden behavior on the sphinx rendered scikit-learn.org. See: https://github.com/scikit-learn/scikit-learn/issues/21755 */display: inline-block !important;position: relative;}#sk-container-id-9 div.sk-text-repr-fallback {display: none;}</style><div id=\"sk-container-id-9\" class=\"sk-top-container\"><div class=\"sk-text-repr-fallback\"><pre>LogisticRegression(multi_class=&#x27;ovr&#x27;)</pre><b>In a Jupyter environment, please rerun this cell to show the HTML representation or trust the notebook. <br />On GitHub, the HTML representation is unable to render, please try loading this page with nbviewer.org.</b></div><div class=\"sk-container\" hidden><div class=\"sk-item\"><div class=\"sk-estimator sk-toggleable\"><input class=\"sk-toggleable__control sk-hidden--visually\" id=\"sk-estimator-id-9\" type=\"checkbox\" checked><label for=\"sk-estimator-id-9\" class=\"sk-toggleable__label sk-toggleable__label-arrow\">LogisticRegression</label><div class=\"sk-toggleable__content\"><pre>LogisticRegression(multi_class=&#x27;ovr&#x27;)</pre></div></div></div></div></div>"
      ],
      "text/plain": [
       "LogisticRegression(multi_class='ovr')"
      ]
     },
     "execution_count": 360,
     "metadata": {},
     "output_type": "execute_result"
    }
   ],
   "source": [
    "clf.fit(train_predictors, train_rating)"
   ]
  },
  {
   "cell_type": "code",
   "execution_count": 361,
   "id": "eb393b36-ccac-4a60-b632-828be57d0092",
   "metadata": {},
   "outputs": [
    {
     "name": "stdout",
     "output_type": "stream",
     "text": [
      "Accuracy: 0.5577342047930284\n"
     ]
    }
   ],
   "source": [
    "score = clf.score(test_predictors, test_rating)\n",
    "print(\"Accuracy:\", score)"
   ]
  },
  {
   "cell_type": "code",
   "execution_count": null,
   "id": "20730a4f-f020-4606-a50d-793d64cf1513",
   "metadata": {},
   "outputs": [],
   "source": [
    "# Neural Network"
   ]
  },
  {
   "cell_type": "code",
   "execution_count": 347,
   "id": "2e8c847f-1184-49d5-85db-b5265630c8d1",
   "metadata": {},
   "outputs": [],
   "source": [
    "import sklearn.neural_network \n",
    "\n",
    "neural_network = sklearn.neural_network.MLPClassifier(hidden_layer_sizes=(10, 10), activation='relu')\n",
    "neural_network.fit(train_predictors, train_rating) \n",
    "y_pred = neural_network.predict(test_predictors)"
   ]
  },
  {
   "cell_type": "code",
   "execution_count": 348,
   "id": "24928c6e-781d-4f0d-adaf-f8e862341470",
   "metadata": {},
   "outputs": [],
   "source": [
    "from sklearn.metrics import accuracy_score"
   ]
  },
  {
   "cell_type": "code",
   "execution_count": 349,
   "id": "a9e31a97-fdbd-4eea-b949-7f0c597111b0",
   "metadata": {},
   "outputs": [
    {
     "data": {
      "text/plain": [
       "0.5577342047930284"
      ]
     },
     "execution_count": 349,
     "metadata": {},
     "output_type": "execute_result"
    }
   ],
   "source": [
    "accuracy_score(test_rating, y_pred)"
   ]
  },
  {
   "cell_type": "code",
   "execution_count": 350,
   "id": "3a7ba1ac-b37d-457b-9241-afb5f0d16f0f",
   "metadata": {},
   "outputs": [],
   "source": [
    "# Dependency Tree"
   ]
  },
  {
   "cell_type": "code",
   "execution_count": 351,
   "id": "e86b33b0-d0e5-4cb3-a6fb-a7e1e43b28a8",
   "metadata": {},
   "outputs": [
    {
     "name": "stdout",
     "output_type": "stream",
     "text": [
      "Accuracy: 0.5577342047930284\n"
     ]
    }
   ],
   "source": [
    "from sklearn.tree import DecisionTreeClassifier\n",
    "clf = DecisionTreeClassifier()\n",
    "clf.fit(train_predictors, train_rating)\n",
    "y_pred = clf.predict(test_predictors)\n",
    "accuracy = accuracy_score(test_rating, y_pred)\n",
    "\n",
    "print('Accuracy:', accuracy)"
   ]
  },
  {
   "cell_type": "code",
   "execution_count": null,
   "id": "1abb05d4-5200-4051-b898-481cb71e6b1c",
   "metadata": {},
   "outputs": [],
   "source": []
  },
  {
   "cell_type": "code",
   "execution_count": null,
   "id": "4b121d6c-8825-45ac-847c-c42e4dbb4d7e",
   "metadata": {},
   "outputs": [],
   "source": []
  },
  {
   "cell_type": "code",
   "execution_count": 29,
   "id": "0f54c55a-5482-4ccd-8e0f-0fc629af3620",
   "metadata": {},
   "outputs": [],
   "source": [
    "# SUBJECTIVITY METHODS"
   ]
  },
  {
   "cell_type": "code",
   "execution_count": null,
   "id": "eee8a630-dfa8-4a74-9fb5-105b069d444a",
   "metadata": {},
   "outputs": [],
   "source": []
  },
  {
   "cell_type": "code",
   "execution_count": null,
   "id": "75c2c333-f0fa-49c7-a030-7b14349d24d9",
   "metadata": {},
   "outputs": [],
   "source": []
  },
  {
   "cell_type": "code",
   "execution_count": 12,
   "id": "a621eefd-88c3-4915-896a-8151d15323ec",
   "metadata": {},
   "outputs": [],
   "source": [
    "# this function returns a dictionary where you can look up words and get back \n",
    "#     the four items of subjectivity information described above\n",
    "def readSubjectivity(path):\n",
    "    flexicon = open(path, 'r')\n",
    "    # initialize an empty dictionary\n",
    "    sldict = { }\n",
    "    for line in flexicon:\n",
    "        fields = line.split()   # default is to split on whitespace\n",
    "        # split each field on the '=' and keep the second part as the value\n",
    "        strength = fields[0].split(\"=\")[1]\n",
    "        word = fields[2].split(\"=\")[1]\n",
    "        posTag = fields[3].split(\"=\")[1]\n",
    "        stemmed = fields[4].split(\"=\")[1]\n",
    "        polarity = fields[5].split(\"=\")[1]\n",
    "        if (stemmed == 'y'):\n",
    "            isStemmed = True\n",
    "        else:\n",
    "            isStemmed = False\n",
    "        # put a dictionary entry with the word as the keyword\n",
    "        #     and a list of the other values\n",
    "        sldict[word] = [strength, posTag, isStemmed, polarity]\n",
    "    return sldict"
   ]
  },
  {
   "cell_type": "code",
   "execution_count": 13,
   "id": "b7134586-a211-4e27-8832-c18278f3e7e1",
   "metadata": {},
   "outputs": [],
   "source": [
    "SLpath = \"C:/Users/daedr/OneDrive/Documents/Masters Courses/IT/IST664/WK8/subjclueslen1-hltemnlp05.tff/subjclueslen1-HLTEMNLP05.tff\""
   ]
  },
  {
   "cell_type": "code",
   "execution_count": 14,
   "id": "51502286-8f57-4ee1-ac2f-aa3dd0513252",
   "metadata": {},
   "outputs": [],
   "source": [
    "# import the Subjectivity program as a module to use the function\n",
    "#import Subjectivity\n",
    "SL = readSubjectivity(SLpath)"
   ]
  },
  {
   "cell_type": "code",
   "execution_count": 15,
   "id": "2c5b88a9-ac2c-4016-aa93-7f41d24a937f",
   "metadata": {},
   "outputs": [],
   "source": [
    "# define features that include word counts of subjectivity words\n",
    "# negative feature will have number of weakly negative words +\n",
    "# positive feature has similar definition\n",
    "# not counting neutral words\n",
    "def SL_features(document, word_features, SL):\n",
    "    document_words = set(document)\n",
    "    features = {}\n",
    "    for word in word_features:\n",
    "        features['V_{}'.format(word)] = (word in document_words)\n",
    "    # count variable for the 4 classes of subjectivity\n",
    "    weakPos = 0\n",
    "    strongPos = 0\n",
    "    weakNeg = 0\n",
    "    strongNeg = 0\n",
    "    for word in document_words:\n",
    "        if word is SL:\n",
    "            strength, posTag, isStemmed, polarity = SL[word]\n",
    "            if strength == 'waksubj' and polarity == 'positive':\n",
    "                weakPos += 1\n",
    "            if strength == 'strongsubj' and polarity == 'positive':\n",
    "                strongPos += 1\n",
    "            if strength == 'weaksubj' and polarity == 'negative':\n",
    "                weakNeg += 1\n",
    "            if strength == 'strongsubj' and polarity == 'negative':\n",
    "                strongNeg += 1\n",
    "            features['positivecount'] = weakPos + (2 * strongPos)\n",
    "            features['negativecount'] = weakNeg + (2 * strongNeg)\n",
    "    return features"
   ]
  },
  {
   "cell_type": "code",
   "execution_count": 16,
   "id": "ab568c99-261c-44b3-b4e8-f344511198a5",
   "metadata": {},
   "outputs": [],
   "source": [
    "def document_features(document, word_features):\n",
    "    document_words = set(document)\n",
    "    features = {}\n",
    "    for word in word_features:\n",
    "        features['V_{}'.format(word)] = (word in document_words)\n",
    "    return features"
   ]
  },
  {
   "cell_type": "code",
   "execution_count": 18,
   "id": "420d50d0-fe3e-4af4-9d8d-35abba035d97",
   "metadata": {},
   "outputs": [],
   "source": [
    "def get_only_words_from_tuple(tuple_list):\n",
    "    i = 0\n",
    "    words_only_list = []\n",
    "    while i < len(tuple_list):\n",
    "        words_only_list.append(tuple_list[i][0])\n",
    "        i = i + 1\n",
    "    return words_only_list"
   ]
  },
  {
   "cell_type": "code",
   "execution_count": null,
   "id": "5bfaa2f4-61e3-4b08-bb97-225e080201b0",
   "metadata": {},
   "outputs": [],
   "source": []
  },
  {
   "cell_type": "code",
   "execution_count": null,
   "id": "199ff882-fd7f-4a8b-b378-bba389c461d9",
   "metadata": {},
   "outputs": [],
   "source": []
  },
  {
   "cell_type": "code",
   "execution_count": 37,
   "id": "5051f5ee-d986-4732-bca4-f6cdb26efa3e",
   "metadata": {},
   "outputs": [],
   "source": [
    "# SUBJECTIVITY ANALYSIS LEMMATIZATION"
   ]
  },
  {
   "cell_type": "code",
   "execution_count": null,
   "id": "f01cfb37-f539-436b-827c-3a2fd3736fb9",
   "metadata": {},
   "outputs": [],
   "source": []
  },
  {
   "cell_type": "code",
   "execution_count": null,
   "id": "4ff90ada-7ae0-4a57-9f3d-b684b6ee629a",
   "metadata": {},
   "outputs": [],
   "source": []
  },
  {
   "cell_type": "code",
   "execution_count": 30,
   "id": "2bf57d82-85a1-4fe7-a612-ea03cc1d251a",
   "metadata": {},
   "outputs": [],
   "source": [
    "lemmatization_pure_string = convert_list_of_list_to_list_of_string(phrases_lemmatized)\n",
    "most_used_words_tuple = most_common_used_words(lemmatization_pure_string, 500)\n",
    "most_used_words_list = get_only_words_from_tuple(most_used_words_tuple)\n",
    "\n",
    "document = []\n",
    "i = 0\n",
    "while i < len(phrases_lemmatized):\n",
    "    document.append( (phrases_lemmatized[i], sentiment[i]) )\n",
    "    i += 1"
   ]
  },
  {
   "cell_type": "code",
   "execution_count": 31,
   "id": "8cd02aff-3751-416a-9b77-4e15c818cf45",
   "metadata": {},
   "outputs": [],
   "source": [
    "SL_featuresets = [(SL_features(d, most_used_words_list, SL), c) for (d, c) in document]"
   ]
  },
  {
   "cell_type": "code",
   "execution_count": null,
   "id": "9d7e7c9b-34d1-4e57-87b1-8223efe9f66c",
   "metadata": {},
   "outputs": [],
   "source": [
    "#PRINTING FOR TESTING PURPOSES CAN DELETE AFTERWORDS"
   ]
  },
  {
   "cell_type": "code",
   "execution_count": 45,
   "id": "5f08aa39-c713-42d1-b802-dcd8d931a9c3",
   "metadata": {},
   "outputs": [],
   "source": [
    "size = int(len(SL_featuresets) * 0.1)\n",
    "train_set, test_set = SL_featuresets[size:], SL_featuresets[:size]"
   ]
  },
  {
   "cell_type": "code",
   "execution_count": 46,
   "id": "0c4011d1-5841-44c7-ae6e-9eb4a8e31c79",
   "metadata": {},
   "outputs": [
    {
     "name": "stdout",
     "output_type": "stream",
     "text": [
      "0.5742022299115724\n"
     ]
    }
   ],
   "source": [
    "classifier = nltk.NaiveBayesClassifier.train(train_set)\n",
    "print(nltk.classify.accuracy(classifier, test_set))"
   ]
  },
  {
   "cell_type": "code",
   "execution_count": 47,
   "id": "7471bf96-2680-4c15-9556-b03ec8787e2c",
   "metadata": {},
   "outputs": [
    {
     "name": "stdout",
     "output_type": "stream",
     "text": [
      "Each fold size: 14045\n",
      "0 0.5636881452474191\n",
      "1 0.5238875044499822\n",
      "2 0.5250978996084016\n",
      "3 0.5317906728373086\n",
      "4 0.5229619081523674\n",
      "5 0.51812032751869\n",
      "6 0.5139907440370238\n",
      "7 0.5173371306514774\n",
      "8 0.5139195443218227\n",
      "9 0.5060875756496974\n",
      "mean accuracy 0.5236881452474191\n"
     ]
    }
   ],
   "source": [
    "# I'm unable to do this with the full set. It causes the machine to crash so used 10,000 elements of the full set\n",
    "num_folds = 10\n",
    "cross_validation_accuracy(num_folds, train_set)"
   ]
  },
  {
   "cell_type": "code",
   "execution_count": 154,
   "id": "26a832b0-848b-43cc-929e-6b7d0659ec4b",
   "metadata": {},
   "outputs": [],
   "source": [
    "goldlist = []\n",
    "predictedlist = []\n",
    "for (features, label) in test_set:\n",
    "    goldlist.append(label)\n",
    "    predictedlist.append(classifier.classify(features))"
   ]
  },
  {
   "cell_type": "code",
   "execution_count": 153,
   "id": "4f323f0b-af26-4c24-ae37-719bfb38650f",
   "metadata": {},
   "outputs": [
    {
     "name": "stdout",
     "output_type": "stream",
     "text": [
      "\tPrecision\tRecall\t\tF1\n",
      "0 \t      0.687      0.134      0.224\n",
      "1 \t      0.339      0.274      0.303\n",
      "2 \t      0.363      0.824      0.504\n",
      "3 \t      0.397      0.333      0.362\n",
      "4 \t      0.592      0.221      0.322\n"
     ]
    }
   ],
   "source": [
    "eval_measures(goldlist, predictedlist)"
   ]
  },
  {
   "cell_type": "code",
   "execution_count": null,
   "id": "f093740a-ac44-4afe-a95c-c174c6d61c57",
   "metadata": {},
   "outputs": [],
   "source": []
  },
  {
   "cell_type": "code",
   "execution_count": null,
   "id": "7a8a4542-dce1-4080-8451-14e6fbb1de3a",
   "metadata": {},
   "outputs": [],
   "source": []
  },
  {
   "cell_type": "code",
   "execution_count": null,
   "id": "35e5243d-9097-4254-954b-cfef98b4b4ad",
   "metadata": {},
   "outputs": [],
   "source": [
    "# SciKit Learning Subjectivity Analysis Feature Base Functions"
   ]
  },
  {
   "cell_type": "code",
   "execution_count": null,
   "id": "e57be9da-397d-4b6d-a1d8-16be43dfbb59",
   "metadata": {},
   "outputs": [],
   "source": []
  },
  {
   "cell_type": "code",
   "execution_count": null,
   "id": "e9ec666e-7d74-424a-a7b4-c80ab7a167f8",
   "metadata": {},
   "outputs": [],
   "source": []
  },
  {
   "cell_type": "code",
   "execution_count": 19,
   "id": "784c0336-97fe-4910-93bc-194ff7462d33",
   "metadata": {},
   "outputs": [],
   "source": [
    "def convert_dictionary_to_scikit_usable_list(dictionary):\n",
    "    usable_list = []\n",
    "    for key in dictionary:\n",
    "        if dictionary[key] == True:\n",
    "            usable_list.append(1)\n",
    "        else:\n",
    "            usable_list.append(0)\n",
    "    return usable_list"
   ]
  },
  {
   "cell_type": "code",
   "execution_count": 20,
   "id": "2f6236db-370a-4088-8a81-7109f90c2615",
   "metadata": {},
   "outputs": [],
   "source": [
    "def convert_list_of_dictionary_to_scikit_usable_list_Subjectivity(list_dictionary):\n",
    "    usable_list = []\n",
    "    for dictionary in list_dictionary:\n",
    "        usable_list.append(convert_dictionary_to_scikit_usable_list(dictionary))\n",
    "    return usable_list\n",
    "                        "
   ]
  },
  {
   "cell_type": "code",
   "execution_count": null,
   "id": "d9ecdc89-adda-48db-ba5b-562f86a08736",
   "metadata": {},
   "outputs": [],
   "source": []
  },
  {
   "cell_type": "code",
   "execution_count": null,
   "id": "3e325e20-8416-479e-994f-566bc2806c0b",
   "metadata": {},
   "outputs": [],
   "source": []
  },
  {
   "cell_type": "code",
   "execution_count": null,
   "id": "c9e8b715-1c91-42bd-aef5-d988fc07f17b",
   "metadata": {},
   "outputs": [],
   "source": [
    "# SciKit learning Subjectivity Analysis feature Lemmatization"
   ]
  },
  {
   "cell_type": "code",
   "execution_count": null,
   "id": "871e68b6-fc05-4e1d-b8ff-1bb3f0bc99a6",
   "metadata": {},
   "outputs": [],
   "source": []
  },
  {
   "cell_type": "code",
   "execution_count": null,
   "id": "266586bb-d798-4ab2-ab8e-157dfcda4852",
   "metadata": {},
   "outputs": [],
   "source": []
  },
  {
   "cell_type": "code",
   "execution_count": null,
   "id": "b6bac4b6-c9e0-4a56-bab2-438a3bb25e6c",
   "metadata": {},
   "outputs": [],
   "source": [
    "# Regression"
   ]
  },
  {
   "cell_type": "code",
   "execution_count": 28,
   "id": "0d7bb476-b30f-4dbd-8dd0-2d3449ce7821",
   "metadata": {},
   "outputs": [],
   "source": [
    "from sklearn.linear_model import LogisticRegression"
   ]
  },
  {
   "cell_type": "code",
   "execution_count": 32,
   "id": "ce40fe94-bd0f-4f0e-a32b-52b20c045f67",
   "metadata": {},
   "outputs": [],
   "source": [
    "vectorized_documents = vectorize_feature_documents(SL_featuresets)\n",
    "vectorized_documents = convert_list_of_dictionary_to_scikit_usable_list_Subjectivity(vectorized_documents)"
   ]
  },
  {
   "cell_type": "code",
   "execution_count": 27,
   "id": "7d00ebb7-f7bb-40d8-b82e-f04c18d82617",
   "metadata": {},
   "outputs": [],
   "source": [
    "vectorized_rating = vectorize_feature_rating(SL_featuresets)"
   ]
  },
  {
   "cell_type": "code",
   "execution_count": 28,
   "id": "bf58b29d-429c-4d3b-aac7-6f335592994d",
   "metadata": {},
   "outputs": [],
   "source": [
    "size = int(len(vectorized_documents) * 0.1)\n",
    "train_predictors, test_predictors = vectorized_documents[size:], vectorized_documents[:size]"
   ]
  },
  {
   "cell_type": "code",
   "execution_count": 29,
   "id": "99040742-ffd3-4a8f-b9ae-b4ecf1326042",
   "metadata": {},
   "outputs": [],
   "source": [
    "size = int(len(vectorized_rating) * 0.1)\n",
    "train_rating, test_rating = vectorized_rating[size:], vectorized_rating[:size]"
   ]
  },
  {
   "cell_type": "code",
   "execution_count": 32,
   "id": "0cf06f0d-b7d0-485c-a450-0d1188b7f0f4",
   "metadata": {},
   "outputs": [],
   "source": [
    "clf = LogisticRegression(C=1.0, solver='lbfgs', multi_class='ovr')"
   ]
  },
  {
   "cell_type": "code",
   "execution_count": 33,
   "id": "7274659f-7656-4c40-8143-fb1d02e202cb",
   "metadata": {},
   "outputs": [
    {
     "name": "stderr",
     "output_type": "stream",
     "text": [
      "C:\\Users\\daedr\\anaconda3\\Lib\\site-packages\\sklearn\\linear_model\\_logistic.py:458: ConvergenceWarning: lbfgs failed to converge (status=1):\n",
      "STOP: TOTAL NO. of ITERATIONS REACHED LIMIT.\n",
      "\n",
      "Increase the number of iterations (max_iter) or scale the data as shown in:\n",
      "    https://scikit-learn.org/stable/modules/preprocessing.html\n",
      "Please also refer to the documentation for alternative solver options:\n",
      "    https://scikit-learn.org/stable/modules/linear_model.html#logistic-regression\n",
      "  n_iter_i = _check_optimize_result(\n"
     ]
    },
    {
     "data": {
      "text/html": [
       "<style>#sk-container-id-1 {color: black;background-color: white;}#sk-container-id-1 pre{padding: 0;}#sk-container-id-1 div.sk-toggleable {background-color: white;}#sk-container-id-1 label.sk-toggleable__label {cursor: pointer;display: block;width: 100%;margin-bottom: 0;padding: 0.3em;box-sizing: border-box;text-align: center;}#sk-container-id-1 label.sk-toggleable__label-arrow:before {content: \"▸\";float: left;margin-right: 0.25em;color: #696969;}#sk-container-id-1 label.sk-toggleable__label-arrow:hover:before {color: black;}#sk-container-id-1 div.sk-estimator:hover label.sk-toggleable__label-arrow:before {color: black;}#sk-container-id-1 div.sk-toggleable__content {max-height: 0;max-width: 0;overflow: hidden;text-align: left;background-color: #f0f8ff;}#sk-container-id-1 div.sk-toggleable__content pre {margin: 0.2em;color: black;border-radius: 0.25em;background-color: #f0f8ff;}#sk-container-id-1 input.sk-toggleable__control:checked~div.sk-toggleable__content {max-height: 200px;max-width: 100%;overflow: auto;}#sk-container-id-1 input.sk-toggleable__control:checked~label.sk-toggleable__label-arrow:before {content: \"▾\";}#sk-container-id-1 div.sk-estimator input.sk-toggleable__control:checked~label.sk-toggleable__label {background-color: #d4ebff;}#sk-container-id-1 div.sk-label input.sk-toggleable__control:checked~label.sk-toggleable__label {background-color: #d4ebff;}#sk-container-id-1 input.sk-hidden--visually {border: 0;clip: rect(1px 1px 1px 1px);clip: rect(1px, 1px, 1px, 1px);height: 1px;margin: -1px;overflow: hidden;padding: 0;position: absolute;width: 1px;}#sk-container-id-1 div.sk-estimator {font-family: monospace;background-color: #f0f8ff;border: 1px dotted black;border-radius: 0.25em;box-sizing: border-box;margin-bottom: 0.5em;}#sk-container-id-1 div.sk-estimator:hover {background-color: #d4ebff;}#sk-container-id-1 div.sk-parallel-item::after {content: \"\";width: 100%;border-bottom: 1px solid gray;flex-grow: 1;}#sk-container-id-1 div.sk-label:hover label.sk-toggleable__label {background-color: #d4ebff;}#sk-container-id-1 div.sk-serial::before {content: \"\";position: absolute;border-left: 1px solid gray;box-sizing: border-box;top: 0;bottom: 0;left: 50%;z-index: 0;}#sk-container-id-1 div.sk-serial {display: flex;flex-direction: column;align-items: center;background-color: white;padding-right: 0.2em;padding-left: 0.2em;position: relative;}#sk-container-id-1 div.sk-item {position: relative;z-index: 1;}#sk-container-id-1 div.sk-parallel {display: flex;align-items: stretch;justify-content: center;background-color: white;position: relative;}#sk-container-id-1 div.sk-item::before, #sk-container-id-1 div.sk-parallel-item::before {content: \"\";position: absolute;border-left: 1px solid gray;box-sizing: border-box;top: 0;bottom: 0;left: 50%;z-index: -1;}#sk-container-id-1 div.sk-parallel-item {display: flex;flex-direction: column;z-index: 1;position: relative;background-color: white;}#sk-container-id-1 div.sk-parallel-item:first-child::after {align-self: flex-end;width: 50%;}#sk-container-id-1 div.sk-parallel-item:last-child::after {align-self: flex-start;width: 50%;}#sk-container-id-1 div.sk-parallel-item:only-child::after {width: 0;}#sk-container-id-1 div.sk-dashed-wrapped {border: 1px dashed gray;margin: 0 0.4em 0.5em 0.4em;box-sizing: border-box;padding-bottom: 0.4em;background-color: white;}#sk-container-id-1 div.sk-label label {font-family: monospace;font-weight: bold;display: inline-block;line-height: 1.2em;}#sk-container-id-1 div.sk-label-container {text-align: center;}#sk-container-id-1 div.sk-container {/* jupyter's `normalize.less` sets `[hidden] { display: none; }` but bootstrap.min.css set `[hidden] { display: none !important; }` so we also need the `!important` here to be able to override the default hidden behavior on the sphinx rendered scikit-learn.org. See: https://github.com/scikit-learn/scikit-learn/issues/21755 */display: inline-block !important;position: relative;}#sk-container-id-1 div.sk-text-repr-fallback {display: none;}</style><div id=\"sk-container-id-1\" class=\"sk-top-container\"><div class=\"sk-text-repr-fallback\"><pre>LogisticRegression(multi_class=&#x27;ovr&#x27;)</pre><b>In a Jupyter environment, please rerun this cell to show the HTML representation or trust the notebook. <br />On GitHub, the HTML representation is unable to render, please try loading this page with nbviewer.org.</b></div><div class=\"sk-container\" hidden><div class=\"sk-item\"><div class=\"sk-estimator sk-toggleable\"><input class=\"sk-toggleable__control sk-hidden--visually\" id=\"sk-estimator-id-1\" type=\"checkbox\" checked><label for=\"sk-estimator-id-1\" class=\"sk-toggleable__label sk-toggleable__label-arrow\">LogisticRegression</label><div class=\"sk-toggleable__content\"><pre>LogisticRegression(multi_class=&#x27;ovr&#x27;)</pre></div></div></div></div></div>"
      ],
      "text/plain": [
       "LogisticRegression(multi_class='ovr')"
      ]
     },
     "execution_count": 33,
     "metadata": {},
     "output_type": "execute_result"
    }
   ],
   "source": [
    "clf.fit(train_predictors, train_rating)"
   ]
  },
  {
   "cell_type": "code",
   "execution_count": 34,
   "id": "cf550bcb-8939-453e-8f94-849b4cab832c",
   "metadata": {},
   "outputs": [
    {
     "name": "stdout",
     "output_type": "stream",
     "text": [
      "Accuracy: 0.593041138023837\n"
     ]
    }
   ],
   "source": [
    "score = clf.score(test_predictors, test_rating)\n",
    "print(\"Accuracy:\", score)"
   ]
  },
  {
   "cell_type": "code",
   "execution_count": null,
   "id": "94efe56c-be30-4e45-9e84-a1c7c865d572",
   "metadata": {},
   "outputs": [],
   "source": [
    "# Neaural Network"
   ]
  },
  {
   "cell_type": "code",
   "execution_count": 38,
   "id": "7a8806f6-6d56-4d27-8c30-7f3fbc261df5",
   "metadata": {
    "scrolled": true
   },
   "outputs": [],
   "source": [
    "import sklearn.neural_network \n",
    "\n",
    "neural_network = sklearn.neural_network.MLPClassifier(hidden_layer_sizes=(10, 10), activation='relu')\n",
    "neural_network.fit(train_predictors, train_rating) \n",
    "y_pred = neural_network.predict(test_predictors)"
   ]
  },
  {
   "cell_type": "code",
   "execution_count": 39,
   "id": "565bbbff-6a3c-4d61-abf7-1b069d2d21fe",
   "metadata": {},
   "outputs": [],
   "source": [
    "from sklearn.metrics import accuracy_score"
   ]
  },
  {
   "cell_type": "code",
   "execution_count": 40,
   "id": "1b84df3d-6253-4272-bf87-0b4cc2a13b04",
   "metadata": {},
   "outputs": [
    {
     "data": {
      "text/plain": [
       "0.5874022811739075"
      ]
     },
     "execution_count": 40,
     "metadata": {},
     "output_type": "execute_result"
    }
   ],
   "source": [
    "accuracy_score(test_rating, y_pred)"
   ]
  },
  {
   "cell_type": "code",
   "execution_count": 41,
   "id": "dfe06056-ef75-4d03-baed-a3cd08cb4c2c",
   "metadata": {},
   "outputs": [],
   "source": [
    "# Decision Tree"
   ]
  },
  {
   "cell_type": "code",
   "execution_count": 37,
   "id": "f2049da4-22bf-4c6a-9adb-573e73a451e6",
   "metadata": {},
   "outputs": [
    {
     "name": "stdout",
     "output_type": "stream",
     "text": [
      "Accuracy: 0.5388952966807639\n"
     ]
    }
   ],
   "source": [
    "from sklearn.tree import DecisionTreeClassifier\n",
    "clf = DecisionTreeClassifier()\n",
    "clf.fit(train_predictors, train_rating)\n",
    "y_pred = clf.predict(test_predictors)\n",
    "accuracy = accuracy_score(test_rating, y_pred)\n",
    "\n",
    "print('Accuracy:', accuracy)"
   ]
  },
  {
   "cell_type": "code",
   "execution_count": null,
   "id": "8267d8f1-e143-4909-b7d7-a52d15f17a7e",
   "metadata": {},
   "outputs": [],
   "source": []
  },
  {
   "cell_type": "code",
   "execution_count": null,
   "id": "e7f3ba79-7d91-4c21-9d86-4cd213a7a552",
   "metadata": {},
   "outputs": [],
   "source": []
  },
  {
   "cell_type": "code",
   "execution_count": null,
   "id": "dd6dbbd8-e93b-4e95-b1bb-c91d839495c3",
   "metadata": {},
   "outputs": [],
   "source": [
    "# SUBJECTIVITY ANALYSIS ON ORIGINAL DATA"
   ]
  },
  {
   "cell_type": "code",
   "execution_count": null,
   "id": "9c1eb9a9-df46-4cf6-8e14-a8606880a7d7",
   "metadata": {},
   "outputs": [],
   "source": []
  },
  {
   "cell_type": "code",
   "execution_count": null,
   "id": "956dbc6e-a6bd-472e-a495-7e975d3a82c0",
   "metadata": {},
   "outputs": [],
   "source": []
  },
  {
   "cell_type": "code",
   "execution_count": 36,
   "id": "44fec2f9-ad13-4bc3-9266-87452bc26a18",
   "metadata": {},
   "outputs": [],
   "source": [
    "most_used_words_tuple = most_common_used_words(phrases, 500)\n",
    "most_used_words_list = get_only_words_from_tuple(most_used_words_tuple)\n",
    "\n",
    "document = []\n",
    "i = 0\n",
    "while i < len(phrases):\n",
    "    document.append( (phrases[i], sentiment[i]) )\n",
    "    i += 1"
   ]
  },
  {
   "cell_type": "code",
   "execution_count": 37,
   "id": "1d919c12-9285-4e15-ac3a-57f0249fb4b3",
   "metadata": {},
   "outputs": [],
   "source": [
    "SL_featuresets = [(SL_features(d, most_used_words_list, SL), c) for (d, c) in document]"
   ]
  },
  {
   "cell_type": "code",
   "execution_count": 35,
   "id": "969b6026-b650-4519-93f6-1d7a8a65cd57",
   "metadata": {},
   "outputs": [],
   "source": [
    "# split data into a training set and a test set, Didn't use full size. It was too large and caused my machine to crash. Was not possible on my laptop.\n",
    "size = int(len(SL_featuresets) * 0.1)\n",
    "train_set, test_set = SL_featuresets[size:], SL_featuresets[:size]"
   ]
  },
  {
   "cell_type": "code",
   "execution_count": 170,
   "id": "019b0c89-da2f-4871-ad76-f750f42a61e6",
   "metadata": {},
   "outputs": [
    {
     "name": "stdout",
     "output_type": "stream",
     "text": [
      "0.5587594514930155\n"
     ]
    }
   ],
   "source": [
    "classifier = nltk.NaiveBayesClassifier.train(train_set)\n",
    "print(nltk.classify.accuracy(classifier, test_set))"
   ]
  },
  {
   "cell_type": "code",
   "execution_count": 171,
   "id": "743052ab-5e45-4a75-a97d-dacb6a176787",
   "metadata": {},
   "outputs": [
    {
     "name": "stdout",
     "output_type": "stream",
     "text": [
      "Each fold size: 14045\n",
      "0 0.5471698113207547\n",
      "1 0.5072979708081168\n",
      "2 0.5056603773584906\n",
      "3 0.5141331434674261\n",
      "4 0.49911000355998575\n",
      "5 0.501317194731221\n",
      "6 0.4993236027055892\n",
      "7 0.49676041295834816\n",
      "8 0.49241723033107865\n",
      "9 0.4937700249199003\n",
      "mean accuracy 0.5056959772160912\n"
     ]
    }
   ],
   "source": [
    "num_folds = 10\n",
    "cross_validation_accuracy(num_folds, train_set)"
   ]
  },
  {
   "cell_type": "code",
   "execution_count": 172,
   "id": "f4d8aa90-cb7f-4a26-b413-14112da1f744",
   "metadata": {},
   "outputs": [],
   "source": [
    "goldlist = []\n",
    "predictedlist = []\n",
    "for (features, label) in test_set:\n",
    "    goldlist.append(label)\n",
    "    predictedlist.append(classifier.classify(features))"
   ]
  },
  {
   "cell_type": "code",
   "execution_count": 173,
   "id": "21ebe998-40b9-4f69-bd00-c32bd32d13f2",
   "metadata": {},
   "outputs": [
    {
     "name": "stdout",
     "output_type": "stream",
     "text": [
      "\tPrecision\tRecall\t\tF1\n",
      "0 \t      0.028      0.340      0.052\n",
      "1 \t      0.082      0.281      0.127\n",
      "2 \t      0.939      0.601      0.733\n",
      "3 \t      0.108      0.266      0.153\n",
      "4 \t      0.000      0.000      0.000\n"
     ]
    }
   ],
   "source": [
    "eval_measures(goldlist, predictedlist)"
   ]
  },
  {
   "cell_type": "code",
   "execution_count": null,
   "id": "5166d66e-48b2-4aa2-9094-b5cd30d939eb",
   "metadata": {},
   "outputs": [],
   "source": []
  },
  {
   "cell_type": "code",
   "execution_count": null,
   "id": "7977abb1-9cc3-4c47-bb4a-2e49eda0b593",
   "metadata": {},
   "outputs": [],
   "source": []
  },
  {
   "cell_type": "code",
   "execution_count": null,
   "id": "405f6504-38a2-4723-b393-1cda5d73f153",
   "metadata": {},
   "outputs": [],
   "source": [
    "# SciKit learning Subjectivity Analysis feature Original Data"
   ]
  },
  {
   "cell_type": "code",
   "execution_count": null,
   "id": "e7386ad5-716e-4d15-9d43-9850cd242462",
   "metadata": {},
   "outputs": [],
   "source": []
  },
  {
   "cell_type": "code",
   "execution_count": null,
   "id": "e1cc7a8a-4a4e-4a8f-8948-94fe9621f853",
   "metadata": {},
   "outputs": [],
   "source": []
  },
  {
   "cell_type": "code",
   "execution_count": null,
   "id": "5c9372de-db90-4068-ac5e-3869a8315159",
   "metadata": {},
   "outputs": [],
   "source": [
    "# Regression"
   ]
  },
  {
   "cell_type": "code",
   "execution_count": 38,
   "id": "d5895f7e-63a6-4cff-af77-23781a9b27e1",
   "metadata": {},
   "outputs": [],
   "source": [
    "from sklearn.linear_model import LogisticRegression"
   ]
  },
  {
   "cell_type": "code",
   "execution_count": 39,
   "id": "48cdfcd9-ecc3-455a-9ef8-79d2ef9a377d",
   "metadata": {},
   "outputs": [],
   "source": [
    "vectorized_documents = vectorize_feature_documents(SL_featuresets)\n",
    "vectorized_documents = convert_list_of_dictionary_to_scikit_usable_list_Subjectivity(vectorized_documents)"
   ]
  },
  {
   "cell_type": "code",
   "execution_count": 40,
   "id": "84e62fd4-30d9-4c55-b702-b7099946d4f7",
   "metadata": {},
   "outputs": [],
   "source": [
    "vectorized_rating = vectorize_feature_rating(SL_featuresets)"
   ]
  },
  {
   "cell_type": "code",
   "execution_count": 41,
   "id": "3902d6ea-451a-464b-bc70-4e707beb76ea",
   "metadata": {},
   "outputs": [],
   "source": [
    "size = int(len(vectorized_documents) * 0.1)\n",
    "train_predictors, test_predictors = vectorized_documents[size:], vectorized_documents[:size]"
   ]
  },
  {
   "cell_type": "code",
   "execution_count": 42,
   "id": "bc2f3a9f-ff98-42b2-9e71-a54cd08291fe",
   "metadata": {},
   "outputs": [],
   "source": [
    "size = int(len(vectorized_rating) * 0.1)\n",
    "train_rating, test_rating = vectorized_rating[size:], vectorized_rating[:size]"
   ]
  },
  {
   "cell_type": "code",
   "execution_count": 43,
   "id": "20857a80-7fd5-4749-a263-cb72e88c5888",
   "metadata": {},
   "outputs": [],
   "source": [
    "clf = LogisticRegression(C=1.0, solver='lbfgs', multi_class='ovr')"
   ]
  },
  {
   "cell_type": "code",
   "execution_count": 44,
   "id": "92581c88-5d2a-49c7-a0c1-c79c744715d4",
   "metadata": {},
   "outputs": [
    {
     "data": {
      "text/html": [
       "<style>#sk-container-id-1 {color: black;background-color: white;}#sk-container-id-1 pre{padding: 0;}#sk-container-id-1 div.sk-toggleable {background-color: white;}#sk-container-id-1 label.sk-toggleable__label {cursor: pointer;display: block;width: 100%;margin-bottom: 0;padding: 0.3em;box-sizing: border-box;text-align: center;}#sk-container-id-1 label.sk-toggleable__label-arrow:before {content: \"▸\";float: left;margin-right: 0.25em;color: #696969;}#sk-container-id-1 label.sk-toggleable__label-arrow:hover:before {color: black;}#sk-container-id-1 div.sk-estimator:hover label.sk-toggleable__label-arrow:before {color: black;}#sk-container-id-1 div.sk-toggleable__content {max-height: 0;max-width: 0;overflow: hidden;text-align: left;background-color: #f0f8ff;}#sk-container-id-1 div.sk-toggleable__content pre {margin: 0.2em;color: black;border-radius: 0.25em;background-color: #f0f8ff;}#sk-container-id-1 input.sk-toggleable__control:checked~div.sk-toggleable__content {max-height: 200px;max-width: 100%;overflow: auto;}#sk-container-id-1 input.sk-toggleable__control:checked~label.sk-toggleable__label-arrow:before {content: \"▾\";}#sk-container-id-1 div.sk-estimator input.sk-toggleable__control:checked~label.sk-toggleable__label {background-color: #d4ebff;}#sk-container-id-1 div.sk-label input.sk-toggleable__control:checked~label.sk-toggleable__label {background-color: #d4ebff;}#sk-container-id-1 input.sk-hidden--visually {border: 0;clip: rect(1px 1px 1px 1px);clip: rect(1px, 1px, 1px, 1px);height: 1px;margin: -1px;overflow: hidden;padding: 0;position: absolute;width: 1px;}#sk-container-id-1 div.sk-estimator {font-family: monospace;background-color: #f0f8ff;border: 1px dotted black;border-radius: 0.25em;box-sizing: border-box;margin-bottom: 0.5em;}#sk-container-id-1 div.sk-estimator:hover {background-color: #d4ebff;}#sk-container-id-1 div.sk-parallel-item::after {content: \"\";width: 100%;border-bottom: 1px solid gray;flex-grow: 1;}#sk-container-id-1 div.sk-label:hover label.sk-toggleable__label {background-color: #d4ebff;}#sk-container-id-1 div.sk-serial::before {content: \"\";position: absolute;border-left: 1px solid gray;box-sizing: border-box;top: 0;bottom: 0;left: 50%;z-index: 0;}#sk-container-id-1 div.sk-serial {display: flex;flex-direction: column;align-items: center;background-color: white;padding-right: 0.2em;padding-left: 0.2em;position: relative;}#sk-container-id-1 div.sk-item {position: relative;z-index: 1;}#sk-container-id-1 div.sk-parallel {display: flex;align-items: stretch;justify-content: center;background-color: white;position: relative;}#sk-container-id-1 div.sk-item::before, #sk-container-id-1 div.sk-parallel-item::before {content: \"\";position: absolute;border-left: 1px solid gray;box-sizing: border-box;top: 0;bottom: 0;left: 50%;z-index: -1;}#sk-container-id-1 div.sk-parallel-item {display: flex;flex-direction: column;z-index: 1;position: relative;background-color: white;}#sk-container-id-1 div.sk-parallel-item:first-child::after {align-self: flex-end;width: 50%;}#sk-container-id-1 div.sk-parallel-item:last-child::after {align-self: flex-start;width: 50%;}#sk-container-id-1 div.sk-parallel-item:only-child::after {width: 0;}#sk-container-id-1 div.sk-dashed-wrapped {border: 1px dashed gray;margin: 0 0.4em 0.5em 0.4em;box-sizing: border-box;padding-bottom: 0.4em;background-color: white;}#sk-container-id-1 div.sk-label label {font-family: monospace;font-weight: bold;display: inline-block;line-height: 1.2em;}#sk-container-id-1 div.sk-label-container {text-align: center;}#sk-container-id-1 div.sk-container {/* jupyter's `normalize.less` sets `[hidden] { display: none; }` but bootstrap.min.css set `[hidden] { display: none !important; }` so we also need the `!important` here to be able to override the default hidden behavior on the sphinx rendered scikit-learn.org. See: https://github.com/scikit-learn/scikit-learn/issues/21755 */display: inline-block !important;position: relative;}#sk-container-id-1 div.sk-text-repr-fallback {display: none;}</style><div id=\"sk-container-id-1\" class=\"sk-top-container\"><div class=\"sk-text-repr-fallback\"><pre>LogisticRegression(multi_class=&#x27;ovr&#x27;)</pre><b>In a Jupyter environment, please rerun this cell to show the HTML representation or trust the notebook. <br />On GitHub, the HTML representation is unable to render, please try loading this page with nbviewer.org.</b></div><div class=\"sk-container\" hidden><div class=\"sk-item\"><div class=\"sk-estimator sk-toggleable\"><input class=\"sk-toggleable__control sk-hidden--visually\" id=\"sk-estimator-id-1\" type=\"checkbox\" checked><label for=\"sk-estimator-id-1\" class=\"sk-toggleable__label sk-toggleable__label-arrow\">LogisticRegression</label><div class=\"sk-toggleable__content\"><pre>LogisticRegression(multi_class=&#x27;ovr&#x27;)</pre></div></div></div></div></div>"
      ],
      "text/plain": [
       "LogisticRegression(multi_class='ovr')"
      ]
     },
     "execution_count": 44,
     "metadata": {},
     "output_type": "execute_result"
    }
   ],
   "source": [
    "clf.fit(train_predictors, train_rating)"
   ]
  },
  {
   "cell_type": "code",
   "execution_count": 45,
   "id": "03fc104d-e129-4f1a-b2f5-abb575b1ba7a",
   "metadata": {},
   "outputs": [
    {
     "name": "stdout",
     "output_type": "stream",
     "text": [
      "Accuracy: 0.5601050877867487\n"
     ]
    }
   ],
   "source": [
    "score = clf.score(test_predictors, test_rating)\n",
    "print(\"Accuracy:\", score)"
   ]
  },
  {
   "cell_type": "code",
   "execution_count": null,
   "id": "3d3de3ab-fe68-4212-90b5-a7b5d4a20c85",
   "metadata": {},
   "outputs": [],
   "source": [
    "# Neural Network"
   ]
  },
  {
   "cell_type": "code",
   "execution_count": 46,
   "id": "cb85aec0-97c5-4afb-a475-6082b95e25be",
   "metadata": {},
   "outputs": [],
   "source": [
    "import sklearn.neural_network \n",
    "\n",
    "neural_network = sklearn.neural_network.MLPClassifier(hidden_layer_sizes=(10, 10), activation='relu')\n",
    "neural_network.fit(train_predictors, train_rating) \n",
    "y_pred = neural_network.predict(test_predictors)"
   ]
  },
  {
   "cell_type": "code",
   "execution_count": 47,
   "id": "6e23c167-af76-4969-8e6f-098a6763fc6a",
   "metadata": {},
   "outputs": [],
   "source": [
    "from sklearn.metrics import accuracy_score"
   ]
  },
  {
   "cell_type": "code",
   "execution_count": 48,
   "id": "1a373d0c-660e-425d-aab7-d8c923919df4",
   "metadata": {},
   "outputs": [
    {
     "data": {
      "text/plain": [
       "0.5601050877867487"
      ]
     },
     "execution_count": 48,
     "metadata": {},
     "output_type": "execute_result"
    }
   ],
   "source": [
    "accuracy_score(test_rating, y_pred)"
   ]
  },
  {
   "cell_type": "code",
   "execution_count": null,
   "id": "7dff2cc0-d57b-462f-a64f-7d8775015b42",
   "metadata": {},
   "outputs": [],
   "source": [
    "# Decision Tree"
   ]
  },
  {
   "cell_type": "code",
   "execution_count": 49,
   "id": "0ae49a71-31b5-40da-a858-e0cc6ede565d",
   "metadata": {},
   "outputs": [
    {
     "name": "stdout",
     "output_type": "stream",
     "text": [
      "Accuracy: 0.5595924644367551\n"
     ]
    }
   ],
   "source": [
    "from sklearn.tree import DecisionTreeClassifier\n",
    "clf = DecisionTreeClassifier()\n",
    "clf.fit(train_predictors, train_rating)\n",
    "y_pred = clf.predict(test_predictors)\n",
    "accuracy = accuracy_score(test_rating, y_pred)\n",
    "\n",
    "print('Accuracy:', accuracy)"
   ]
  },
  {
   "cell_type": "code",
   "execution_count": null,
   "id": "a2239353-cf83-4fd2-a490-a4fc0cd8268d",
   "metadata": {},
   "outputs": [],
   "source": []
  },
  {
   "cell_type": "code",
   "execution_count": null,
   "id": "fa88c8f1-167c-440b-b76a-c0a0f1c6b04d",
   "metadata": {},
   "outputs": [],
   "source": []
  },
  {
   "cell_type": "code",
   "execution_count": null,
   "id": "95f55a95-c99a-454c-a6e6-a8f3f2eb55f0",
   "metadata": {},
   "outputs": [],
   "source": [
    "# NEGATION FEATURES GENERAL FUNCTIONS"
   ]
  },
  {
   "cell_type": "code",
   "execution_count": null,
   "id": "8f7d3ec5-7c58-4122-813b-551928895429",
   "metadata": {},
   "outputs": [],
   "source": []
  },
  {
   "cell_type": "code",
   "execution_count": null,
   "id": "b97c66ab-9366-4a07-8d03-af137f9bfdb2",
   "metadata": {},
   "outputs": [],
   "source": []
  },
  {
   "cell_type": "code",
   "execution_count": 50,
   "id": "dd9e2395-6b64-4222-a9a8-97a9a1e58b18",
   "metadata": {},
   "outputs": [],
   "source": [
    "# this list of negation words includes some \"approximate negators\" like hardly and rarely\n",
    "negationwords = [ 'no', 'not', 'never', 'none', 'nowhere', 'nothing', 'noone', 'rather', 'hardly', 'scarcely', 'rarely', 'seldom', 'neither', 'nor']"
   ]
  },
  {
   "cell_type": "code",
   "execution_count": 51,
   "id": "a628b320-1dbd-4c82-b324-14f66db9283e",
   "metadata": {},
   "outputs": [],
   "source": [
    "def NOT_features(document, word_features, negationwords):\n",
    "    features = {}\n",
    "    for word in word_features:\n",
    "        features['V_{}'.format(word)] = False\n",
    "        features['V_NOT{}'.format(word)] = False\n",
    "    # go through document words in order\n",
    "    for i in range(0, len(document)):\n",
    "        word = document[i]\n",
    "        if ((i + 1) < len(document)) and ((word in negationwords) or (word.endswith(\"n't\"))):\n",
    "            i += 1\n",
    "            features['V_NOT{}'.format(document[i])] = (document[i] in word_features)\n",
    "        else:\n",
    "            features['V_{}'.format(word)] = (word in word_features)\n",
    "    return features"
   ]
  },
  {
   "cell_type": "code",
   "execution_count": null,
   "id": "6e5f3d9d-70a2-4cbc-adf2-ec26b37ee09e",
   "metadata": {},
   "outputs": [],
   "source": []
  },
  {
   "cell_type": "code",
   "execution_count": null,
   "id": "3cb0eb30-24f2-43fc-b3a6-dbce620533ca",
   "metadata": {},
   "outputs": [],
   "source": []
  },
  {
   "cell_type": "code",
   "execution_count": 11,
   "id": "7f1b786c-b571-4d20-92b0-e295ac46886b",
   "metadata": {},
   "outputs": [],
   "source": [
    "# NEGATION WORDS WITH LEMMATIZATION"
   ]
  },
  {
   "cell_type": "code",
   "execution_count": null,
   "id": "cc421ce5-eb6b-4f6b-9efe-685c6850a4a8",
   "metadata": {},
   "outputs": [],
   "source": []
  },
  {
   "cell_type": "code",
   "execution_count": null,
   "id": "baee1366-44fc-4df3-bf53-0218a96eb906",
   "metadata": {},
   "outputs": [],
   "source": []
  },
  {
   "cell_type": "code",
   "execution_count": 362,
   "id": "4bd4f3ac-0603-42f2-ac20-b47b72a68427",
   "metadata": {},
   "outputs": [],
   "source": [
    "lemmatization_pure_string = convert_list_of_list_to_list_of_string(phrases_lemmatized)\n",
    "most_used_words_tuple = most_common_used_words(lemmatization_pure_string, 500)\n",
    "most_used_words_list = get_only_words_from_tuple(most_used_words_tuple)"
   ]
  },
  {
   "cell_type": "code",
   "execution_count": 363,
   "id": "36638cf9-899d-46b0-bea0-80cf812c05d5",
   "metadata": {},
   "outputs": [],
   "source": [
    "document = []\n",
    "i = 0\n",
    "while i < len(lemmatization_pure_string):\n",
    "    document.append( (lemmatization_pure_string[i], sentiment[i]) )\n",
    "    i += 1"
   ]
  },
  {
   "cell_type": "code",
   "execution_count": 364,
   "id": "e0fa0b74-52c0-407c-b97d-e5838fd6fb36",
   "metadata": {},
   "outputs": [],
   "source": [
    "# define the feature sets\n",
    "NOT_featuresets = [(NOT_features(d, most_used_words_list, negationwords), c) for (d, c) in document]"
   ]
  },
  {
   "cell_type": "code",
   "execution_count": 180,
   "id": "a7099b3c-c93e-4edb-a792-139e7764b775",
   "metadata": {},
   "outputs": [
    {
     "data": {
      "text/plain": [
       "0.36742278610790724"
      ]
     },
     "execution_count": 180,
     "metadata": {},
     "output_type": "execute_result"
    }
   ],
   "source": [
    "size = int(len(NOT_featuresets) * 0.1)\n",
    "train_set, test_set = NOT_featuresets[size:], NOT_featuresets[:size]\n",
    "classifier = nltk.NaiveBayesClassifier.train(train_set)\n",
    "nltk.classify.accuracy(classifier, test_set)"
   ]
  },
  {
   "cell_type": "code",
   "execution_count": 181,
   "id": "b9543f85-b528-4c85-94f5-5941d8464faf",
   "metadata": {},
   "outputs": [
    {
     "name": "stdout",
     "output_type": "stream",
     "text": [
      "Each fold size: 14045\n",
      "0 0.33300106799572804\n",
      "1 0.31391954432182273\n",
      "2 0.2943396226415094\n",
      "3 0.28892844428622283\n",
      "4 0.2798860804556782\n",
      "5 0.27739409042363833\n",
      "6 0.2633677465290139\n",
      "7 0.257315770736917\n",
      "8 0.27020291918832323\n",
      "9 0.2512637949448202\n",
      "mean accuracy 0.28296190815236744\n"
     ]
    }
   ],
   "source": [
    "num_folds = 10\n",
    "cross_validation_accuracy(num_folds, train_set)"
   ]
  },
  {
   "cell_type": "code",
   "execution_count": 182,
   "id": "0a9c8358-50b2-4d12-971f-93106c1b95ed",
   "metadata": {},
   "outputs": [],
   "source": [
    "goldlist = []\n",
    "predictedlist = []\n",
    "for (features, label) in test_set:\n",
    "    goldlist.append(label)\n",
    "    predictedlist.append(classifier.classify(features))"
   ]
  },
  {
   "cell_type": "code",
   "execution_count": 183,
   "id": "4ab95414-46cf-451a-ba2b-cf7a7526d0dc",
   "metadata": {},
   "outputs": [
    {
     "name": "stdout",
     "output_type": "stream",
     "text": [
      "\tPrecision\tRecall\t\tF1\n",
      "0 \t      0.401      0.092      0.149\n",
      "1 \t      0.145      0.207      0.170\n",
      "2 \t      0.467      0.752      0.576\n",
      "3 \t      0.286      0.218      0.248\n",
      "4 \t      0.263      0.106      0.151\n"
     ]
    }
   ],
   "source": [
    "eval_measures(goldlist, predictedlist)"
   ]
  },
  {
   "cell_type": "code",
   "execution_count": null,
   "id": "ae2521d8-869a-4134-a166-5cba2471013c",
   "metadata": {},
   "outputs": [],
   "source": []
  },
  {
   "cell_type": "code",
   "execution_count": null,
   "id": "dcb79610-c784-481c-9ea2-368d6ded430b",
   "metadata": {},
   "outputs": [],
   "source": []
  },
  {
   "cell_type": "code",
   "execution_count": null,
   "id": "34450d18-c9ef-4e93-bbb1-84ea61cfe62c",
   "metadata": {},
   "outputs": [],
   "source": [
    "# SciKit Vectorization for Negation"
   ]
  },
  {
   "cell_type": "code",
   "execution_count": 270,
   "id": "d2a21619-f663-4b7e-b5c9-5a7877d7b375",
   "metadata": {},
   "outputs": [],
   "source": []
  },
  {
   "cell_type": "code",
   "execution_count": 271,
   "id": "1dad39b1-feb2-4926-b878-2e8a7813ab41",
   "metadata": {},
   "outputs": [],
   "source": []
  },
  {
   "cell_type": "code",
   "execution_count": 273,
   "id": "cdf4db2f-5bdc-456f-81ba-4bbd9663b01f",
   "metadata": {},
   "outputs": [],
   "source": [
    "def convert_dictionary_to_scikit_usable_list_uneven_lists(dictionary, all_existing_keys):\n",
    "    usable_list = get_default_vectorization_list(all_existing_keys)\n",
    "    for key in dictionary:\n",
    "        if dictionary[key] == True:\n",
    "            usable_list[list(all_keys.keys()).index(key)] = 1\n",
    "    return usable_list"
   ]
  },
  {
   "cell_type": "code",
   "execution_count": 274,
   "id": "b29dccd0-98b9-4fd4-92bc-51b4d8b16aa0",
   "metadata": {},
   "outputs": [],
   "source": [
    "def convert_list_of_dictionary_to_scikit_usable_list_Uneven_Lists(list_dictionary):\n",
    "    usable_list = []\n",
    "    all_existing_keys = get_all_keys_in_feature(list_dictionary)\n",
    "    for dictionary in list_dictionary:\n",
    "        usable_list.append(convert_dictionary_to_scikit_usable_list_uneven_lists(dictionary, all_existing_keys))\n",
    "    return usable_list                    "
   ]
  },
  {
   "cell_type": "code",
   "execution_count": null,
   "id": "0efabdd5-c706-4d2a-b95d-83aa1933e40b",
   "metadata": {},
   "outputs": [],
   "source": []
  },
  {
   "cell_type": "code",
   "execution_count": null,
   "id": "4d875c2b-bf49-4019-9e96-a13f2c798c13",
   "metadata": {},
   "outputs": [],
   "source": []
  },
  {
   "cell_type": "code",
   "execution_count": null,
   "id": "cdb19ed8-65d3-418f-9e42-c369c20211b1",
   "metadata": {},
   "outputs": [],
   "source": [
    "# SciKit NEGATION Lemmatization"
   ]
  },
  {
   "cell_type": "code",
   "execution_count": null,
   "id": "0eae2128-7428-4cf6-95e2-65c213c24fcc",
   "metadata": {},
   "outputs": [],
   "source": []
  },
  {
   "cell_type": "code",
   "execution_count": null,
   "id": "487c1b20-1a73-4bd9-92e5-f1ddcf02ad05",
   "metadata": {},
   "outputs": [],
   "source": []
  },
  {
   "cell_type": "code",
   "execution_count": null,
   "id": "81cf9f7f-f256-420b-93eb-0cde754b7cdc",
   "metadata": {},
   "outputs": [],
   "source": [
    "#Regression"
   ]
  },
  {
   "cell_type": "code",
   "execution_count": 142,
   "id": "45a5c849-d650-4656-aa2e-0a265dcc6940",
   "metadata": {},
   "outputs": [],
   "source": [
    "from sklearn.linear_model import LogisticRegression"
   ]
  },
  {
   "cell_type": "code",
   "execution_count": 143,
   "id": "228678d1-a9a7-4cc0-87de-cb08ad7709f6",
   "metadata": {},
   "outputs": [],
   "source": [
    "vectorized_documents = vectorize_feature_documents(NOT_featuresets)\n",
    "vectorized_documents = convert_list_of_dictionary_to_scikit_usable_list_Uneven_Lists(vectorized_documents)"
   ]
  },
  {
   "cell_type": "code",
   "execution_count": 148,
   "id": "050ef9e1-667b-4d72-91d3-7ff94cd80c7e",
   "metadata": {},
   "outputs": [],
   "source": [
    "vectorized_rating = vectorize_feature_rating(NOT_featuresets)"
   ]
  },
  {
   "cell_type": "code",
   "execution_count": 149,
   "id": "5cf77b08-e2a4-47c7-9888-03378cb8165d",
   "metadata": {},
   "outputs": [],
   "source": [
    "size = int(len(vectorized_documents) * 0.1)\n",
    "train_predictors, test_predictors = vectorized_documents[size:], vectorized_documents[:size]"
   ]
  },
  {
   "cell_type": "code",
   "execution_count": 150,
   "id": "005fe503-a504-47a5-b312-eda1b4e4e5d7",
   "metadata": {},
   "outputs": [],
   "source": [
    "size = int(len(vectorized_rating) * 0.1)\n",
    "train_rating, test_rating = vectorized_rating[size:], vectorized_rating[:size]"
   ]
  },
  {
   "cell_type": "code",
   "execution_count": 151,
   "id": "ea19dc40-77cc-4eb6-aa30-d5e42a4a9593",
   "metadata": {},
   "outputs": [],
   "source": [
    "clf = LogisticRegression(C=1.0, solver='lbfgs', multi_class='ovr')"
   ]
  },
  {
   "cell_type": "code",
   "execution_count": 152,
   "id": "267d4e27-ab6b-45f7-8414-a54de9e99f52",
   "metadata": {},
   "outputs": [
    {
     "data": {
      "text/html": [
       "<style>#sk-container-id-2 {color: black;background-color: white;}#sk-container-id-2 pre{padding: 0;}#sk-container-id-2 div.sk-toggleable {background-color: white;}#sk-container-id-2 label.sk-toggleable__label {cursor: pointer;display: block;width: 100%;margin-bottom: 0;padding: 0.3em;box-sizing: border-box;text-align: center;}#sk-container-id-2 label.sk-toggleable__label-arrow:before {content: \"▸\";float: left;margin-right: 0.25em;color: #696969;}#sk-container-id-2 label.sk-toggleable__label-arrow:hover:before {color: black;}#sk-container-id-2 div.sk-estimator:hover label.sk-toggleable__label-arrow:before {color: black;}#sk-container-id-2 div.sk-toggleable__content {max-height: 0;max-width: 0;overflow: hidden;text-align: left;background-color: #f0f8ff;}#sk-container-id-2 div.sk-toggleable__content pre {margin: 0.2em;color: black;border-radius: 0.25em;background-color: #f0f8ff;}#sk-container-id-2 input.sk-toggleable__control:checked~div.sk-toggleable__content {max-height: 200px;max-width: 100%;overflow: auto;}#sk-container-id-2 input.sk-toggleable__control:checked~label.sk-toggleable__label-arrow:before {content: \"▾\";}#sk-container-id-2 div.sk-estimator input.sk-toggleable__control:checked~label.sk-toggleable__label {background-color: #d4ebff;}#sk-container-id-2 div.sk-label input.sk-toggleable__control:checked~label.sk-toggleable__label {background-color: #d4ebff;}#sk-container-id-2 input.sk-hidden--visually {border: 0;clip: rect(1px 1px 1px 1px);clip: rect(1px, 1px, 1px, 1px);height: 1px;margin: -1px;overflow: hidden;padding: 0;position: absolute;width: 1px;}#sk-container-id-2 div.sk-estimator {font-family: monospace;background-color: #f0f8ff;border: 1px dotted black;border-radius: 0.25em;box-sizing: border-box;margin-bottom: 0.5em;}#sk-container-id-2 div.sk-estimator:hover {background-color: #d4ebff;}#sk-container-id-2 div.sk-parallel-item::after {content: \"\";width: 100%;border-bottom: 1px solid gray;flex-grow: 1;}#sk-container-id-2 div.sk-label:hover label.sk-toggleable__label {background-color: #d4ebff;}#sk-container-id-2 div.sk-serial::before {content: \"\";position: absolute;border-left: 1px solid gray;box-sizing: border-box;top: 0;bottom: 0;left: 50%;z-index: 0;}#sk-container-id-2 div.sk-serial {display: flex;flex-direction: column;align-items: center;background-color: white;padding-right: 0.2em;padding-left: 0.2em;position: relative;}#sk-container-id-2 div.sk-item {position: relative;z-index: 1;}#sk-container-id-2 div.sk-parallel {display: flex;align-items: stretch;justify-content: center;background-color: white;position: relative;}#sk-container-id-2 div.sk-item::before, #sk-container-id-2 div.sk-parallel-item::before {content: \"\";position: absolute;border-left: 1px solid gray;box-sizing: border-box;top: 0;bottom: 0;left: 50%;z-index: -1;}#sk-container-id-2 div.sk-parallel-item {display: flex;flex-direction: column;z-index: 1;position: relative;background-color: white;}#sk-container-id-2 div.sk-parallel-item:first-child::after {align-self: flex-end;width: 50%;}#sk-container-id-2 div.sk-parallel-item:last-child::after {align-self: flex-start;width: 50%;}#sk-container-id-2 div.sk-parallel-item:only-child::after {width: 0;}#sk-container-id-2 div.sk-dashed-wrapped {border: 1px dashed gray;margin: 0 0.4em 0.5em 0.4em;box-sizing: border-box;padding-bottom: 0.4em;background-color: white;}#sk-container-id-2 div.sk-label label {font-family: monospace;font-weight: bold;display: inline-block;line-height: 1.2em;}#sk-container-id-2 div.sk-label-container {text-align: center;}#sk-container-id-2 div.sk-container {/* jupyter's `normalize.less` sets `[hidden] { display: none; }` but bootstrap.min.css set `[hidden] { display: none !important; }` so we also need the `!important` here to be able to override the default hidden behavior on the sphinx rendered scikit-learn.org. See: https://github.com/scikit-learn/scikit-learn/issues/21755 */display: inline-block !important;position: relative;}#sk-container-id-2 div.sk-text-repr-fallback {display: none;}</style><div id=\"sk-container-id-2\" class=\"sk-top-container\"><div class=\"sk-text-repr-fallback\"><pre>LogisticRegression(multi_class=&#x27;ovr&#x27;)</pre><b>In a Jupyter environment, please rerun this cell to show the HTML representation or trust the notebook. <br />On GitHub, the HTML representation is unable to render, please try loading this page with nbviewer.org.</b></div><div class=\"sk-container\" hidden><div class=\"sk-item\"><div class=\"sk-estimator sk-toggleable\"><input class=\"sk-toggleable__control sk-hidden--visually\" id=\"sk-estimator-id-2\" type=\"checkbox\" checked><label for=\"sk-estimator-id-2\" class=\"sk-toggleable__label sk-toggleable__label-arrow\">LogisticRegression</label><div class=\"sk-toggleable__content\"><pre>LogisticRegression(multi_class=&#x27;ovr&#x27;)</pre></div></div></div></div></div>"
      ],
      "text/plain": [
       "LogisticRegression(multi_class='ovr')"
      ]
     },
     "execution_count": 152,
     "metadata": {},
     "output_type": "execute_result"
    }
   ],
   "source": [
    "clf.fit(train_predictors, train_rating)"
   ]
  },
  {
   "cell_type": "code",
   "execution_count": 153,
   "id": "de24281d-5160-4948-a17d-748487d27784",
   "metadata": {},
   "outputs": [
    {
     "name": "stdout",
     "output_type": "stream",
     "text": [
      "Accuracy: 0.5606177111367423\n"
     ]
    }
   ],
   "source": [
    "score = clf.score(test_predictors, test_rating)\n",
    "print(\"Accuracy:\", score)"
   ]
  },
  {
   "cell_type": "code",
   "execution_count": null,
   "id": "35e5eb08-5f1e-4983-aa2d-16ae6c862ad6",
   "metadata": {},
   "outputs": [],
   "source": [
    "# Neural Network"
   ]
  },
  {
   "cell_type": "code",
   "execution_count": 154,
   "id": "60ded8e2-c71d-4700-b1c5-a3b4c5e640a2",
   "metadata": {},
   "outputs": [],
   "source": [
    "import sklearn.neural_network \n",
    "\n",
    "neural_network = sklearn.neural_network.MLPClassifier(hidden_layer_sizes=(10, 10), activation='relu')\n",
    "neural_network.fit(train_predictors, train_rating) \n",
    "y_pred = neural_network.predict(test_predictors)"
   ]
  },
  {
   "cell_type": "code",
   "execution_count": 155,
   "id": "08f56a97-6fa9-4599-96dc-b532a4bb1745",
   "metadata": {},
   "outputs": [],
   "source": [
    "from sklearn.metrics import accuracy_score"
   ]
  },
  {
   "cell_type": "code",
   "execution_count": 156,
   "id": "40ee48af-e539-47c8-a6ab-a874948bbe56",
   "metadata": {},
   "outputs": [
    {
     "data": {
      "text/plain": [
       "0.5612584903242342"
      ]
     },
     "execution_count": 156,
     "metadata": {},
     "output_type": "execute_result"
    }
   ],
   "source": [
    "accuracy_score(test_rating, y_pred)"
   ]
  },
  {
   "cell_type": "code",
   "execution_count": 157,
   "id": "80470e91-d847-4d27-b401-b8bdee066075",
   "metadata": {},
   "outputs": [
    {
     "name": "stdout",
     "output_type": "stream",
     "text": [
      "Accuracy: 0.5602332436242471\n"
     ]
    }
   ],
   "source": [
    "from sklearn.tree import DecisionTreeClassifier\n",
    "clf = DecisionTreeClassifier()\n",
    "clf.fit(train_predictors, train_rating)\n",
    "y_pred = clf.predict(test_predictors)\n",
    "accuracy = accuracy_score(test_rating, y_pred)\n",
    "\n",
    "print('Accuracy:', accuracy)"
   ]
  },
  {
   "cell_type": "code",
   "execution_count": null,
   "id": "0325ed08-12c5-44b0-b575-a2c02356255f",
   "metadata": {},
   "outputs": [],
   "source": []
  },
  {
   "cell_type": "code",
   "execution_count": null,
   "id": "339a9561-adc7-44da-b740-942dec2f5586",
   "metadata": {},
   "outputs": [],
   "source": []
  },
  {
   "cell_type": "code",
   "execution_count": null,
   "id": "a879d3e6-88f1-4de6-b1d4-993ecc207709",
   "metadata": {},
   "outputs": [],
   "source": [
    "# NEGATION WORDS WITH WITHOUT FILTERING"
   ]
  },
  {
   "cell_type": "code",
   "execution_count": null,
   "id": "239d486d-8bfa-420d-83ef-3ffc06e9dbb7",
   "metadata": {},
   "outputs": [],
   "source": []
  },
  {
   "cell_type": "code",
   "execution_count": 158,
   "id": "af412d60-3db2-4b14-ba72-51eddc12ea51",
   "metadata": {},
   "outputs": [],
   "source": [
    "most_used_words_tuple = most_common_used_words(phrases, 500)\n",
    "most_used_words_list = get_only_words_from_tuple(most_used_words_tuple)"
   ]
  },
  {
   "cell_type": "code",
   "execution_count": 159,
   "id": "d54b303d-9e27-47cd-b8f5-58964e838f5c",
   "metadata": {},
   "outputs": [],
   "source": [
    "document = []\n",
    "i = 0\n",
    "while i < len(phrases):\n",
    "    document.append( (phrases[i], sentiment[i]) )\n",
    "    i += 1"
   ]
  },
  {
   "cell_type": "code",
   "execution_count": 160,
   "id": "018d69cb-615f-40cc-b89d-826237d02967",
   "metadata": {},
   "outputs": [],
   "source": [
    "# define the feature sets\n",
    "NOT_featuresets = [(NOT_features(d, most_used_words_list, negationwords), c) for (d, c) in document]"
   ]
  },
  {
   "cell_type": "code",
   "execution_count": 187,
   "id": "30e7d09a-da3b-43a1-94e8-14630270c785",
   "metadata": {},
   "outputs": [
    {
     "data": {
      "text/plain": [
       "0.3362809175957965"
      ]
     },
     "execution_count": 187,
     "metadata": {},
     "output_type": "execute_result"
    }
   ],
   "source": [
    "size = int(len(NOT_featuresets) * 0.1)\n",
    "train_set, test_set = NOT_featuresets[size:], NOT_featuresets[:size]\n",
    "classifier = nltk.NaiveBayesClassifier.train(train_set)\n",
    "nltk.classify.accuracy(classifier, test_set)"
   ]
  },
  {
   "cell_type": "code",
   "execution_count": 188,
   "id": "aaa81435-ffa2-49c0-ae74-5c06ff1c3b93",
   "metadata": {},
   "outputs": [
    {
     "name": "stdout",
     "output_type": "stream",
     "text": [
      "Each fold size: 14045\n",
      "0 0.2965468138127447\n",
      "1 0.2830188679245283\n",
      "2 0.26407974368102527\n",
      "3 0.25546457814168744\n",
      "4 0.25026699893200427\n",
      "5 0.24514061943752224\n",
      "6 0.23353506585973657\n",
      "7 0.22954788180847277\n",
      "8 0.2387326450694197\n",
      "9 0.22819508721965112\n",
      "mean accuracy 0.25245283018867926\n"
     ]
    }
   ],
   "source": [
    "num_folds = 10\n",
    "cross_validation_accuracy(num_folds, train_set)"
   ]
  },
  {
   "cell_type": "code",
   "execution_count": 189,
   "id": "5715b6f6-a66c-499b-9f6e-81e9c992ef57",
   "metadata": {},
   "outputs": [],
   "source": [
    "goldlist = []\n",
    "predictedlist = []\n",
    "for (features, label) in test_set:\n",
    "    goldlist.append(label)\n",
    "    predictedlist.append(classifier.classify(features))"
   ]
  },
  {
   "cell_type": "code",
   "execution_count": 190,
   "id": "60afb779-de73-4589-b9f4-9a12a2a1d1bf",
   "metadata": {},
   "outputs": [
    {
     "name": "stdout",
     "output_type": "stream",
     "text": [
      "\tPrecision\tRecall\t\tF1\n",
      "0 \t      0.450      0.092      0.153\n",
      "1 \t      0.161      0.198      0.177\n",
      "2 \t      0.401      0.766      0.527\n",
      "3 \t      0.290      0.218      0.249\n",
      "4 \t      0.275      0.100      0.146\n"
     ]
    }
   ],
   "source": [
    "eval_measures(goldlist, predictedlist)"
   ]
  },
  {
   "cell_type": "code",
   "execution_count": null,
   "id": "5f05dcba-5060-4561-a39f-6417e7f3dceb",
   "metadata": {},
   "outputs": [],
   "source": []
  },
  {
   "cell_type": "code",
   "execution_count": null,
   "id": "2d1a2faf-9726-4e23-a84f-7d74203dcbf7",
   "metadata": {},
   "outputs": [],
   "source": []
  },
  {
   "cell_type": "code",
   "execution_count": null,
   "id": "a9aa40e1-f513-4105-ad6b-f5dbe957e300",
   "metadata": {},
   "outputs": [],
   "source": [
    "# SciKit for NEGATION WORDS WITH WITHOUT FILTERING"
   ]
  },
  {
   "cell_type": "code",
   "execution_count": null,
   "id": "b9ee8d7c-254c-48c8-950f-72d3658050a6",
   "metadata": {},
   "outputs": [],
   "source": []
  },
  {
   "cell_type": "code",
   "execution_count": null,
   "id": "8ac876bb-8ab5-4e93-806a-948136e3d22c",
   "metadata": {},
   "outputs": [],
   "source": []
  },
  {
   "cell_type": "code",
   "execution_count": 161,
   "id": "95a2977f-4a90-4e91-a2b9-788fe75adce4",
   "metadata": {},
   "outputs": [],
   "source": [
    "from sklearn.linear_model import LogisticRegression"
   ]
  },
  {
   "cell_type": "code",
   "execution_count": 162,
   "id": "718fd372-184f-4a8a-96b6-15c73e038d34",
   "metadata": {},
   "outputs": [],
   "source": [
    "vectorized_documents = vectorize_feature_documents(NOT_featuresets)\n",
    "vectorized_documents = convert_list_of_dictionary_to_scikit_usable_list_Uneven_Lists(vectorized_documents)"
   ]
  },
  {
   "cell_type": "code",
   "execution_count": 163,
   "id": "4d19a45f-09e0-499e-aa07-1066979e4ebc",
   "metadata": {},
   "outputs": [],
   "source": [
    "vectorized_rating = vectorize_feature_rating(NOT_featuresets)"
   ]
  },
  {
   "cell_type": "code",
   "execution_count": 164,
   "id": "75d65502-77e1-44e9-bcca-ccc59be89eab",
   "metadata": {},
   "outputs": [],
   "source": [
    "size = int(len(vectorized_documents) * 0.1)\n",
    "train_predictors, test_predictors = vectorized_documents[size:], vectorized_documents[:size]"
   ]
  },
  {
   "cell_type": "code",
   "execution_count": 165,
   "id": "5d853f50-3965-4b3c-928e-dfe6dc47f49a",
   "metadata": {},
   "outputs": [],
   "source": [
    "size = int(len(vectorized_rating) * 0.1)\n",
    "train_rating, test_rating = vectorized_rating[size:], vectorized_rating[:size]"
   ]
  },
  {
   "cell_type": "code",
   "execution_count": 166,
   "id": "c9be266e-3459-4c8a-b8aa-9c9f920f82a8",
   "metadata": {},
   "outputs": [],
   "source": [
    "clf = LogisticRegression(C=1.0, solver='lbfgs', multi_class='ovr')"
   ]
  },
  {
   "cell_type": "code",
   "execution_count": 167,
   "id": "42391e7a-1034-4f6d-a916-5852b3aa34cf",
   "metadata": {},
   "outputs": [
    {
     "data": {
      "text/html": [
       "<style>#sk-container-id-3 {color: black;background-color: white;}#sk-container-id-3 pre{padding: 0;}#sk-container-id-3 div.sk-toggleable {background-color: white;}#sk-container-id-3 label.sk-toggleable__label {cursor: pointer;display: block;width: 100%;margin-bottom: 0;padding: 0.3em;box-sizing: border-box;text-align: center;}#sk-container-id-3 label.sk-toggleable__label-arrow:before {content: \"▸\";float: left;margin-right: 0.25em;color: #696969;}#sk-container-id-3 label.sk-toggleable__label-arrow:hover:before {color: black;}#sk-container-id-3 div.sk-estimator:hover label.sk-toggleable__label-arrow:before {color: black;}#sk-container-id-3 div.sk-toggleable__content {max-height: 0;max-width: 0;overflow: hidden;text-align: left;background-color: #f0f8ff;}#sk-container-id-3 div.sk-toggleable__content pre {margin: 0.2em;color: black;border-radius: 0.25em;background-color: #f0f8ff;}#sk-container-id-3 input.sk-toggleable__control:checked~div.sk-toggleable__content {max-height: 200px;max-width: 100%;overflow: auto;}#sk-container-id-3 input.sk-toggleable__control:checked~label.sk-toggleable__label-arrow:before {content: \"▾\";}#sk-container-id-3 div.sk-estimator input.sk-toggleable__control:checked~label.sk-toggleable__label {background-color: #d4ebff;}#sk-container-id-3 div.sk-label input.sk-toggleable__control:checked~label.sk-toggleable__label {background-color: #d4ebff;}#sk-container-id-3 input.sk-hidden--visually {border: 0;clip: rect(1px 1px 1px 1px);clip: rect(1px, 1px, 1px, 1px);height: 1px;margin: -1px;overflow: hidden;padding: 0;position: absolute;width: 1px;}#sk-container-id-3 div.sk-estimator {font-family: monospace;background-color: #f0f8ff;border: 1px dotted black;border-radius: 0.25em;box-sizing: border-box;margin-bottom: 0.5em;}#sk-container-id-3 div.sk-estimator:hover {background-color: #d4ebff;}#sk-container-id-3 div.sk-parallel-item::after {content: \"\";width: 100%;border-bottom: 1px solid gray;flex-grow: 1;}#sk-container-id-3 div.sk-label:hover label.sk-toggleable__label {background-color: #d4ebff;}#sk-container-id-3 div.sk-serial::before {content: \"\";position: absolute;border-left: 1px solid gray;box-sizing: border-box;top: 0;bottom: 0;left: 50%;z-index: 0;}#sk-container-id-3 div.sk-serial {display: flex;flex-direction: column;align-items: center;background-color: white;padding-right: 0.2em;padding-left: 0.2em;position: relative;}#sk-container-id-3 div.sk-item {position: relative;z-index: 1;}#sk-container-id-3 div.sk-parallel {display: flex;align-items: stretch;justify-content: center;background-color: white;position: relative;}#sk-container-id-3 div.sk-item::before, #sk-container-id-3 div.sk-parallel-item::before {content: \"\";position: absolute;border-left: 1px solid gray;box-sizing: border-box;top: 0;bottom: 0;left: 50%;z-index: -1;}#sk-container-id-3 div.sk-parallel-item {display: flex;flex-direction: column;z-index: 1;position: relative;background-color: white;}#sk-container-id-3 div.sk-parallel-item:first-child::after {align-self: flex-end;width: 50%;}#sk-container-id-3 div.sk-parallel-item:last-child::after {align-self: flex-start;width: 50%;}#sk-container-id-3 div.sk-parallel-item:only-child::after {width: 0;}#sk-container-id-3 div.sk-dashed-wrapped {border: 1px dashed gray;margin: 0 0.4em 0.5em 0.4em;box-sizing: border-box;padding-bottom: 0.4em;background-color: white;}#sk-container-id-3 div.sk-label label {font-family: monospace;font-weight: bold;display: inline-block;line-height: 1.2em;}#sk-container-id-3 div.sk-label-container {text-align: center;}#sk-container-id-3 div.sk-container {/* jupyter's `normalize.less` sets `[hidden] { display: none; }` but bootstrap.min.css set `[hidden] { display: none !important; }` so we also need the `!important` here to be able to override the default hidden behavior on the sphinx rendered scikit-learn.org. See: https://github.com/scikit-learn/scikit-learn/issues/21755 */display: inline-block !important;position: relative;}#sk-container-id-3 div.sk-text-repr-fallback {display: none;}</style><div id=\"sk-container-id-3\" class=\"sk-top-container\"><div class=\"sk-text-repr-fallback\"><pre>LogisticRegression(multi_class=&#x27;ovr&#x27;)</pre><b>In a Jupyter environment, please rerun this cell to show the HTML representation or trust the notebook. <br />On GitHub, the HTML representation is unable to render, please try loading this page with nbviewer.org.</b></div><div class=\"sk-container\" hidden><div class=\"sk-item\"><div class=\"sk-estimator sk-toggleable\"><input class=\"sk-toggleable__control sk-hidden--visually\" id=\"sk-estimator-id-3\" type=\"checkbox\" checked><label for=\"sk-estimator-id-3\" class=\"sk-toggleable__label sk-toggleable__label-arrow\">LogisticRegression</label><div class=\"sk-toggleable__content\"><pre>LogisticRegression(multi_class=&#x27;ovr&#x27;)</pre></div></div></div></div></div>"
      ],
      "text/plain": [
       "LogisticRegression(multi_class='ovr')"
      ]
     },
     "execution_count": 167,
     "metadata": {},
     "output_type": "execute_result"
    }
   ],
   "source": [
    "clf.fit(train_predictors, train_rating)"
   ]
  },
  {
   "cell_type": "code",
   "execution_count": 168,
   "id": "2f563c6b-2a39-490c-8801-51432caea337",
   "metadata": {},
   "outputs": [
    {
     "name": "stdout",
     "output_type": "stream",
     "text": [
      "Accuracy: 0.5601050877867487\n"
     ]
    }
   ],
   "source": [
    "score = clf.score(test_predictors, test_rating)\n",
    "print(\"Accuracy:\", score)"
   ]
  },
  {
   "cell_type": "code",
   "execution_count": null,
   "id": "1f925e50-a02f-4cb6-89e4-0b452eff1eaf",
   "metadata": {},
   "outputs": [],
   "source": [
    "# Neural Network"
   ]
  },
  {
   "cell_type": "code",
   "execution_count": 169,
   "id": "4906156a-f869-42ba-9073-85e3134e87fc",
   "metadata": {},
   "outputs": [],
   "source": [
    "import sklearn.neural_network \n",
    "\n",
    "neural_network = sklearn.neural_network.MLPClassifier(hidden_layer_sizes=(10, 10), activation='relu')\n",
    "neural_network.fit(train_predictors, train_rating) \n",
    "y_pred = neural_network.predict(test_predictors)"
   ]
  },
  {
   "cell_type": "code",
   "execution_count": 170,
   "id": "d94ed6cf-7ceb-4550-be13-695902e80df1",
   "metadata": {},
   "outputs": [],
   "source": [
    "from sklearn.metrics import accuracy_score"
   ]
  },
  {
   "cell_type": "code",
   "execution_count": 171,
   "id": "743e39b7-52dc-42ca-a088-f9ed57cd912f",
   "metadata": {},
   "outputs": [
    {
     "data": {
      "text/plain": [
       "0.5601050877867487"
      ]
     },
     "execution_count": 171,
     "metadata": {},
     "output_type": "execute_result"
    }
   ],
   "source": [
    "accuracy_score(test_rating, y_pred)"
   ]
  },
  {
   "cell_type": "code",
   "execution_count": 172,
   "id": "5deb92b0-5320-46cd-935b-a2a9a1292b73",
   "metadata": {},
   "outputs": [
    {
     "name": "stdout",
     "output_type": "stream",
     "text": [
      "Accuracy: 0.5595924644367551\n"
     ]
    }
   ],
   "source": [
    "from sklearn.tree import DecisionTreeClassifier\n",
    "clf = DecisionTreeClassifier()\n",
    "clf.fit(train_predictors, train_rating)\n",
    "y_pred = clf.predict(test_predictors)\n",
    "accuracy = accuracy_score(test_rating, y_pred)\n",
    "\n",
    "print('Accuracy:', accuracy)"
   ]
  },
  {
   "cell_type": "code",
   "execution_count": null,
   "id": "5253236b-c5b6-4387-8ccd-0dd0124fbefc",
   "metadata": {},
   "outputs": [],
   "source": []
  },
  {
   "cell_type": "code",
   "execution_count": null,
   "id": "950418fd-8ac4-4981-90f6-3d8a0919c3e3",
   "metadata": {},
   "outputs": [],
   "source": []
  },
  {
   "cell_type": "code",
   "execution_count": null,
   "id": "878393f6-9f0b-4bfe-befa-f43ed5eb4b08",
   "metadata": {},
   "outputs": [],
   "source": [
    "# LIWC Sentiment analysis "
   ]
  },
  {
   "cell_type": "code",
   "execution_count": null,
   "id": "c65f4741-e66e-4a0f-8705-ce4a2e73e3ec",
   "metadata": {},
   "outputs": [],
   "source": [
    "### AS A NOTE. LIWC IS REQUIRED TO BE INSTALLED BEFORE EXECUTING THE BELOW CODE. "
   ]
  },
  {
   "cell_type": "code",
   "execution_count": null,
   "id": "35c0f656-36ad-4078-9937-df6a4374df06",
   "metadata": {},
   "outputs": [],
   "source": []
  },
  {
   "cell_type": "code",
   "execution_count": null,
   "id": "54b99391-5f21-4ca7-b709-26b48086b7cb",
   "metadata": {},
   "outputs": [],
   "source": []
  },
  {
   "cell_type": "code",
   "execution_count": 173,
   "id": "5d606d39-1d5c-4bb6-b434-672cac9f7375",
   "metadata": {},
   "outputs": [],
   "source": [
    "import re"
   ]
  },
  {
   "cell_type": "code",
   "execution_count": 174,
   "id": "74d82994-db39-4353-b708-ca5c1ecb8f91",
   "metadata": {},
   "outputs": [],
   "source": [
    "import liwc\n",
    "from collections import Counter"
   ]
  },
  {
   "cell_type": "code",
   "execution_count": 175,
   "id": "341d1ed4-3927-4390-84a3-7b477a909306",
   "metadata": {},
   "outputs": [],
   "source": [
    "parse, category_names = liwc.load_token_parser('C:/Users/daedr/OneDrive/Documents/Masters Courses/IT/IST664/FinalProject/LIWC2007_English100131.dic')"
   ]
  },
  {
   "cell_type": "code",
   "execution_count": 176,
   "id": "d43bdae4-eb0a-4145-b6b6-308f96085f86",
   "metadata": {},
   "outputs": [],
   "source": [
    "def liwc_features(parse, category_names, phrases_tokens_list):\n",
    "    liwc_sentiment_analysis_complete = []\n",
    "    i = 0\n",
    "    for phrase in phrases_tokens_list:\n",
    "        liwc_sentiment_analysis_phrase = Counter(category for token in phrase for category in parse(token.lower()))\n",
    "        liwc_sentiment_analysis_complete.append((dict(liwc_sentiment_analysis_phrase), sentiment[i]))\n",
    "        i += 1\n",
    "    return liwc_sentiment_analysis_complete"
   ]
  },
  {
   "cell_type": "code",
   "execution_count": null,
   "id": "49d6e8d7-07d0-475e-808d-12911c0b1543",
   "metadata": {},
   "outputs": [],
   "source": []
  },
  {
   "cell_type": "code",
   "execution_count": null,
   "id": "87480a75-8214-49d2-bda2-7c5ce7a0176a",
   "metadata": {},
   "outputs": [],
   "source": []
  },
  {
   "cell_type": "code",
   "execution_count": 177,
   "id": "771f3df6-f691-4a51-bd40-0ce37e08b14f",
   "metadata": {},
   "outputs": [],
   "source": [
    "# LIWC Sentiment Analysis Lemmatization"
   ]
  },
  {
   "cell_type": "code",
   "execution_count": null,
   "id": "93ba229d-fdd0-462f-8913-50ab45a63bd7",
   "metadata": {},
   "outputs": [],
   "source": []
  },
  {
   "cell_type": "code",
   "execution_count": null,
   "id": "9c66ae0a-a450-4634-9078-b122a9cd7811",
   "metadata": {},
   "outputs": [],
   "source": []
  },
  {
   "cell_type": "code",
   "execution_count": 178,
   "id": "1e7b93fe-4376-4fe5-ac10-603e37e60ffd",
   "metadata": {},
   "outputs": [],
   "source": [
    "liwc_feature = liwc_features(parse, category_names, phrases_lemmatized)"
   ]
  },
  {
   "cell_type": "code",
   "execution_count": 27,
   "id": "fb8a908e-93a7-4d94-99ff-9a1724a8dbb5",
   "metadata": {},
   "outputs": [
    {
     "data": {
      "text/plain": [
       "0.40516468025118546"
      ]
     },
     "execution_count": 27,
     "metadata": {},
     "output_type": "execute_result"
    }
   ],
   "source": [
    "size = int(len(liwc_feature) * 0.1)\n",
    "train_set, test_set = liwc_feature[size:], liwc_feature[:size]\n",
    "classifier = nltk.NaiveBayesClassifier.train(train_set)\n",
    "nltk.classify.accuracy(classifier, test_set)"
   ]
  },
  {
   "cell_type": "code",
   "execution_count": 31,
   "id": "c14450d1-1b36-4f00-bd4d-3f4219e86350",
   "metadata": {},
   "outputs": [
    {
     "name": "stdout",
     "output_type": "stream",
     "text": [
      "Each fold size: 14045\n",
      "0 0.380064079743681\n",
      "1 0.36333214667141334\n",
      "2 0.3572089711641153\n",
      "3 0.34524741901032396\n",
      "4 0.3574937700249199\n",
      "5 0.34937700249199005\n",
      "6 0.3292986828052688\n",
      "7 0.3263794944820221\n",
      "8 0.32032751868992526\n",
      "9 0.31363474546101816\n",
      "mean accuracy 0.3442363830544678\n"
     ]
    }
   ],
   "source": [
    "num_folds = 10\n",
    "cross_validation_accuracy(num_folds, train_set)"
   ]
  },
  {
   "cell_type": "code",
   "execution_count": 32,
   "id": "35b735f0-8f1f-49f0-bea7-5d597dbf0276",
   "metadata": {},
   "outputs": [],
   "source": [
    "goldlist = []\n",
    "predictedlist = []\n",
    "for (features, label) in test_set:\n",
    "    goldlist.append(label)\n",
    "    predictedlist.append(classifier.classify(features))"
   ]
  },
  {
   "cell_type": "code",
   "execution_count": 33,
   "id": "cf68ce1b-8001-4967-8876-83159a88f9a5",
   "metadata": {},
   "outputs": [
    {
     "name": "stdout",
     "output_type": "stream",
     "text": [
      "\tPrecision\tRecall\t\tF1\n",
      "0 \t      0.583      0.091      0.157\n",
      "1 \t      0.209      0.240      0.223\n",
      "2 \t      0.498      0.755      0.600\n",
      "3 \t      0.315      0.315      0.315\n",
      "4 \t      0.217      0.177      0.195\n"
     ]
    }
   ],
   "source": [
    "eval_measures(goldlist, predictedlist)"
   ]
  },
  {
   "cell_type": "code",
   "execution_count": null,
   "id": "92352585-7a98-4f6c-9e56-9ee49f591d63",
   "metadata": {},
   "outputs": [],
   "source": []
  },
  {
   "cell_type": "code",
   "execution_count": null,
   "id": "2e02e775-cf2f-4263-bdf0-31b2ecc872fc",
   "metadata": {},
   "outputs": [],
   "source": []
  },
  {
   "cell_type": "code",
   "execution_count": null,
   "id": "a81e05db-44a3-4d72-a94b-113909016eab",
   "metadata": {},
   "outputs": [],
   "source": [
    "# LIWC Sentiment Analysis Base Functions"
   ]
  },
  {
   "cell_type": "code",
   "execution_count": null,
   "id": "8f16a0e5-5c26-4c9b-a475-5952e61c32dd",
   "metadata": {},
   "outputs": [],
   "source": []
  },
  {
   "cell_type": "code",
   "execution_count": null,
   "id": "cd831e1e-a3c4-4fc5-8d5f-da07c9e08789",
   "metadata": {},
   "outputs": [],
   "source": []
  },
  {
   "cell_type": "code",
   "execution_count": 180,
   "id": "69e885e5-f0cc-4326-b3a9-be74d34b2eba",
   "metadata": {},
   "outputs": [
    {
     "name": "stdout",
     "output_type": "stream",
     "text": [
      "['funct', 'pronoun', 'ppron', 'i', 'we', 'you', 'shehe', 'they', 'ipron', 'article', 'verb', 'auxverb', 'past', 'present', 'future', 'adverb', 'preps', 'conj', 'negate', 'quant', 'number', 'swear', 'social', 'family', 'friend', 'humans', 'affect', 'posemo', 'negemo', 'anx', 'anger', 'sad', 'cogmech', 'insight', 'cause', 'discrep', 'tentat', 'certain', 'inhib', 'incl', 'excl', 'percept', 'see', 'hear', 'feel', 'bio', 'body', 'health', 'sexual', 'ingest', 'relativ', 'motion', 'space', 'time', 'work', 'achieve', 'leisure', 'home', 'money', 'relig', 'death', 'assent', 'nonfl', 'filler']\n"
     ]
    }
   ],
   "source": [
    "print(category_names)"
   ]
  },
  {
   "cell_type": "code",
   "execution_count": null,
   "id": "5a2f27ee-728b-43e3-8db6-d75f34c6bf80",
   "metadata": {},
   "outputs": [],
   "source": []
  },
  {
   "cell_type": "code",
   "execution_count": 241,
   "id": "f53b2b56-c733-4581-babf-275ef7aac30b",
   "metadata": {},
   "outputs": [],
   "source": [
    "def convert_dictionary_to_scikit_usable_list_uneven_lists_LIWC(dictionary, all_existing_keys):\n",
    "    usable_list = get_default_vectorization_list(all_existing_keys)\n",
    "    for key in dictionary:\n",
    "        usable_list[list(all_existing_keys.keys()).index(key)] = dictionary[key]\n",
    "    return usable_list"
   ]
  },
  {
   "cell_type": "code",
   "execution_count": 242,
   "id": "638ed69d-1e7a-4f0b-8abf-79d30f32fe6d",
   "metadata": {},
   "outputs": [],
   "source": [
    "def convert_list_of_dictionary_to_scikit_usable_list_Uneven_Lists_LIWC(list_dictionary):\n",
    "    usable = []\n",
    "    all_existing_keys = get_all_keys_in_feature(list_dictionary)\n",
    "    for dictionary in list_dictionary:\n",
    "        usable.append(convert_dictionary_to_scikit_usable_list_uneven_lists_LIWC(dictionary, all_existing_keys))\n",
    "    return usable  "
   ]
  },
  {
   "cell_type": "code",
   "execution_count": null,
   "id": "cd261b1a-eaf0-4332-8a63-731efc7906e6",
   "metadata": {},
   "outputs": [],
   "source": []
  },
  {
   "cell_type": "code",
   "execution_count": null,
   "id": "897391f9-b194-41d3-b180-7df44baefc57",
   "metadata": {},
   "outputs": [],
   "source": []
  },
  {
   "cell_type": "code",
   "execution_count": null,
   "id": "be5877b7-77bc-4055-8f5f-53b0fd4446e9",
   "metadata": {},
   "outputs": [],
   "source": [
    "# LIWC Sentiment Analysis Lemmatization SciKit "
   ]
  },
  {
   "cell_type": "code",
   "execution_count": null,
   "id": "c7678694-d8da-4dfb-8bed-bd56a4b4bf85",
   "metadata": {},
   "outputs": [],
   "source": []
  },
  {
   "cell_type": "code",
   "execution_count": null,
   "id": "83e0a264-2ee6-42d7-a39b-257b3f23aab6",
   "metadata": {},
   "outputs": [],
   "source": []
  },
  {
   "cell_type": "code",
   "execution_count": 244,
   "id": "5bf9137e-ae9f-4d9e-b959-748850e4dcf0",
   "metadata": {},
   "outputs": [],
   "source": [
    "from sklearn.linear_model import LogisticRegression"
   ]
  },
  {
   "cell_type": "code",
   "execution_count": 245,
   "id": "3e4ea89a-e106-4483-bd32-a496aaf3bf0e",
   "metadata": {},
   "outputs": [],
   "source": [
    "vectorized_documents = vectorize_feature_documents(liwc_feature)\n",
    "vectorized_documents = convert_list_of_dictionary_to_scikit_usable_list_Uneven_Lists_LIWC(vectorized_documents)"
   ]
  },
  {
   "cell_type": "code",
   "execution_count": 246,
   "id": "6c89b5d2-c8db-448b-893c-14ad61e8fc3f",
   "metadata": {},
   "outputs": [],
   "source": [
    "vectorized_rating = vectorize_feature_rating(NOT_featuresets)"
   ]
  },
  {
   "cell_type": "code",
   "execution_count": 247,
   "id": "1276fff6-5949-4d24-bd04-7cb51b5c59d6",
   "metadata": {},
   "outputs": [],
   "source": [
    "size = int(len(vectorized_documents) * 0.1)\n",
    "train_predictors, test_predictors = vectorized_documents[size:], vectorized_documents[:size]"
   ]
  },
  {
   "cell_type": "code",
   "execution_count": 248,
   "id": "833217c0-e3c1-4aee-beef-a971dda7b444",
   "metadata": {},
   "outputs": [],
   "source": [
    "size = int(len(vectorized_rating) * 0.1)\n",
    "train_rating, test_rating = vectorized_rating[size:], vectorized_rating[:size]"
   ]
  },
  {
   "cell_type": "code",
   "execution_count": 249,
   "id": "fb3e4f06-cdc4-46e5-970a-cb98334afb93",
   "metadata": {},
   "outputs": [],
   "source": [
    "clf = LogisticRegression(C=1.0, solver='lbfgs', multi_class='ovr')"
   ]
  },
  {
   "cell_type": "code",
   "execution_count": 250,
   "id": "cd45df1c-ea76-4564-8229-f5bc43194de9",
   "metadata": {},
   "outputs": [
    {
     "name": "stderr",
     "output_type": "stream",
     "text": [
      "C:\\Users\\daedr\\anaconda3\\Lib\\site-packages\\sklearn\\linear_model\\_logistic.py:458: ConvergenceWarning: lbfgs failed to converge (status=1):\n",
      "STOP: TOTAL NO. of ITERATIONS REACHED LIMIT.\n",
      "\n",
      "Increase the number of iterations (max_iter) or scale the data as shown in:\n",
      "    https://scikit-learn.org/stable/modules/preprocessing.html\n",
      "Please also refer to the documentation for alternative solver options:\n",
      "    https://scikit-learn.org/stable/modules/linear_model.html#logistic-regression\n",
      "  n_iter_i = _check_optimize_result(\n"
     ]
    },
    {
     "data": {
      "text/html": [
       "<style>#sk-container-id-4 {color: black;background-color: white;}#sk-container-id-4 pre{padding: 0;}#sk-container-id-4 div.sk-toggleable {background-color: white;}#sk-container-id-4 label.sk-toggleable__label {cursor: pointer;display: block;width: 100%;margin-bottom: 0;padding: 0.3em;box-sizing: border-box;text-align: center;}#sk-container-id-4 label.sk-toggleable__label-arrow:before {content: \"▸\";float: left;margin-right: 0.25em;color: #696969;}#sk-container-id-4 label.sk-toggleable__label-arrow:hover:before {color: black;}#sk-container-id-4 div.sk-estimator:hover label.sk-toggleable__label-arrow:before {color: black;}#sk-container-id-4 div.sk-toggleable__content {max-height: 0;max-width: 0;overflow: hidden;text-align: left;background-color: #f0f8ff;}#sk-container-id-4 div.sk-toggleable__content pre {margin: 0.2em;color: black;border-radius: 0.25em;background-color: #f0f8ff;}#sk-container-id-4 input.sk-toggleable__control:checked~div.sk-toggleable__content {max-height: 200px;max-width: 100%;overflow: auto;}#sk-container-id-4 input.sk-toggleable__control:checked~label.sk-toggleable__label-arrow:before {content: \"▾\";}#sk-container-id-4 div.sk-estimator input.sk-toggleable__control:checked~label.sk-toggleable__label {background-color: #d4ebff;}#sk-container-id-4 div.sk-label input.sk-toggleable__control:checked~label.sk-toggleable__label {background-color: #d4ebff;}#sk-container-id-4 input.sk-hidden--visually {border: 0;clip: rect(1px 1px 1px 1px);clip: rect(1px, 1px, 1px, 1px);height: 1px;margin: -1px;overflow: hidden;padding: 0;position: absolute;width: 1px;}#sk-container-id-4 div.sk-estimator {font-family: monospace;background-color: #f0f8ff;border: 1px dotted black;border-radius: 0.25em;box-sizing: border-box;margin-bottom: 0.5em;}#sk-container-id-4 div.sk-estimator:hover {background-color: #d4ebff;}#sk-container-id-4 div.sk-parallel-item::after {content: \"\";width: 100%;border-bottom: 1px solid gray;flex-grow: 1;}#sk-container-id-4 div.sk-label:hover label.sk-toggleable__label {background-color: #d4ebff;}#sk-container-id-4 div.sk-serial::before {content: \"\";position: absolute;border-left: 1px solid gray;box-sizing: border-box;top: 0;bottom: 0;left: 50%;z-index: 0;}#sk-container-id-4 div.sk-serial {display: flex;flex-direction: column;align-items: center;background-color: white;padding-right: 0.2em;padding-left: 0.2em;position: relative;}#sk-container-id-4 div.sk-item {position: relative;z-index: 1;}#sk-container-id-4 div.sk-parallel {display: flex;align-items: stretch;justify-content: center;background-color: white;position: relative;}#sk-container-id-4 div.sk-item::before, #sk-container-id-4 div.sk-parallel-item::before {content: \"\";position: absolute;border-left: 1px solid gray;box-sizing: border-box;top: 0;bottom: 0;left: 50%;z-index: -1;}#sk-container-id-4 div.sk-parallel-item {display: flex;flex-direction: column;z-index: 1;position: relative;background-color: white;}#sk-container-id-4 div.sk-parallel-item:first-child::after {align-self: flex-end;width: 50%;}#sk-container-id-4 div.sk-parallel-item:last-child::after {align-self: flex-start;width: 50%;}#sk-container-id-4 div.sk-parallel-item:only-child::after {width: 0;}#sk-container-id-4 div.sk-dashed-wrapped {border: 1px dashed gray;margin: 0 0.4em 0.5em 0.4em;box-sizing: border-box;padding-bottom: 0.4em;background-color: white;}#sk-container-id-4 div.sk-label label {font-family: monospace;font-weight: bold;display: inline-block;line-height: 1.2em;}#sk-container-id-4 div.sk-label-container {text-align: center;}#sk-container-id-4 div.sk-container {/* jupyter's `normalize.less` sets `[hidden] { display: none; }` but bootstrap.min.css set `[hidden] { display: none !important; }` so we also need the `!important` here to be able to override the default hidden behavior on the sphinx rendered scikit-learn.org. See: https://github.com/scikit-learn/scikit-learn/issues/21755 */display: inline-block !important;position: relative;}#sk-container-id-4 div.sk-text-repr-fallback {display: none;}</style><div id=\"sk-container-id-4\" class=\"sk-top-container\"><div class=\"sk-text-repr-fallback\"><pre>LogisticRegression(multi_class=&#x27;ovr&#x27;)</pre><b>In a Jupyter environment, please rerun this cell to show the HTML representation or trust the notebook. <br />On GitHub, the HTML representation is unable to render, please try loading this page with nbviewer.org.</b></div><div class=\"sk-container\" hidden><div class=\"sk-item\"><div class=\"sk-estimator sk-toggleable\"><input class=\"sk-toggleable__control sk-hidden--visually\" id=\"sk-estimator-id-4\" type=\"checkbox\" checked><label for=\"sk-estimator-id-4\" class=\"sk-toggleable__label sk-toggleable__label-arrow\">LogisticRegression</label><div class=\"sk-toggleable__content\"><pre>LogisticRegression(multi_class=&#x27;ovr&#x27;)</pre></div></div></div></div></div>"
      ],
      "text/plain": [
       "LogisticRegression(multi_class='ovr')"
      ]
     },
     "execution_count": 250,
     "metadata": {},
     "output_type": "execute_result"
    }
   ],
   "source": [
    "clf.fit(train_predictors, train_rating)"
   ]
  },
  {
   "cell_type": "code",
   "execution_count": 251,
   "id": "cd92243f-4fa3-4a00-8b40-d43a2f987509",
   "metadata": {},
   "outputs": [
    {
     "name": "stdout",
     "output_type": "stream",
     "text": [
      "Accuracy: 0.5742663078303216\n"
     ]
    }
   ],
   "source": [
    "score = clf.score(test_predictors, test_rating)\n",
    "print(\"Accuracy:\", score)"
   ]
  },
  {
   "cell_type": "code",
   "execution_count": null,
   "id": "8d956785-3b64-4da0-a2a2-8ccac760d9a0",
   "metadata": {},
   "outputs": [],
   "source": [
    "# Neural Network"
   ]
  },
  {
   "cell_type": "code",
   "execution_count": 252,
   "id": "82207ffb-b1c5-4cd3-9991-ee5f7f82669c",
   "metadata": {},
   "outputs": [],
   "source": [
    "import sklearn.neural_network \n",
    "\n",
    "neural_network = sklearn.neural_network.MLPClassifier(hidden_layer_sizes=(10, 10), activation='relu')\n",
    "neural_network.fit(train_predictors, train_rating) \n",
    "y_pred = neural_network.predict(test_predictors)"
   ]
  },
  {
   "cell_type": "code",
   "execution_count": 253,
   "id": "3dd2e086-a98c-4ed6-9288-26556ec3716f",
   "metadata": {},
   "outputs": [],
   "source": [
    "from sklearn.metrics import accuracy_score"
   ]
  },
  {
   "cell_type": "code",
   "execution_count": 254,
   "id": "37cda90f-7c7f-4237-89b0-19b5bf0358a5",
   "metadata": {},
   "outputs": [
    {
     "data": {
      "text/plain": [
       "0.5929129821863386"
      ]
     },
     "execution_count": 254,
     "metadata": {},
     "output_type": "execute_result"
    }
   ],
   "source": [
    "accuracy_score(test_rating, y_pred)"
   ]
  },
  {
   "cell_type": "code",
   "execution_count": null,
   "id": "30fe223b-9d24-4de6-aac3-70c8e94df633",
   "metadata": {},
   "outputs": [],
   "source": [
    "# Decision Tree"
   ]
  },
  {
   "cell_type": "code",
   "execution_count": 255,
   "id": "d9b024cc-bb27-47ba-a2d4-27cb6ab2f539",
   "metadata": {},
   "outputs": [
    {
     "name": "stdout",
     "output_type": "stream",
     "text": [
      "Accuracy: 0.5401127771369986\n"
     ]
    }
   ],
   "source": [
    "from sklearn.tree import DecisionTreeClassifier\n",
    "clf = DecisionTreeClassifier()\n",
    "clf.fit(train_predictors, train_rating)\n",
    "y_pred = clf.predict(test_predictors)\n",
    "accuracy = accuracy_score(test_rating, y_pred)\n",
    "\n",
    "print('Accuracy:', accuracy)"
   ]
  },
  {
   "cell_type": "code",
   "execution_count": null,
   "id": "d395705f-e28a-4ee2-b7ef-322bfff7191d",
   "metadata": {},
   "outputs": [],
   "source": []
  },
  {
   "cell_type": "code",
   "execution_count": null,
   "id": "011bb1e3-4e55-41be-9585-3c02efffb375",
   "metadata": {},
   "outputs": [],
   "source": []
  },
  {
   "cell_type": "code",
   "execution_count": null,
   "id": "3677048b-79f0-4583-b84d-569cdc0405fe",
   "metadata": {},
   "outputs": [],
   "source": [
    "# LIWC Sentiment Analysis Original data set"
   ]
  },
  {
   "cell_type": "code",
   "execution_count": null,
   "id": "87654642-dc11-40ee-af2f-357ab1d3a8a4",
   "metadata": {},
   "outputs": [],
   "source": []
  },
  {
   "cell_type": "code",
   "execution_count": 256,
   "id": "087cfc4b-9aaf-43b0-b3c2-07a3de8a3a26",
   "metadata": {},
   "outputs": [],
   "source": [
    "tokenized_phrases = []\n",
    "for phrase in phrases:\n",
    "    tokenized_phrases.append(get_tokens(phrase))"
   ]
  },
  {
   "cell_type": "code",
   "execution_count": 257,
   "id": "2c454d4e-e4f3-41f1-8b2d-d9321aa5cb1a",
   "metadata": {},
   "outputs": [],
   "source": [
    "liwc_feature = liwc_features(parse, category_names, tokenized_phrases)"
   ]
  },
  {
   "cell_type": "code",
   "execution_count": 40,
   "id": "34a4d4a6-d2f2-46c0-a20a-873b4516035f",
   "metadata": {},
   "outputs": [
    {
     "data": {
      "text/plain": [
       "0.4097782904011278"
      ]
     },
     "execution_count": 40,
     "metadata": {},
     "output_type": "execute_result"
    }
   ],
   "source": [
    "size = int(len(liwc_feature) * 0.1)\n",
    "train_set, test_set = liwc_feature[size:], liwc_feature[:size]\n",
    "classifier = nltk.NaiveBayesClassifier.train(train_set)\n",
    "nltk.classify.accuracy(classifier, test_set)"
   ]
  },
  {
   "cell_type": "code",
   "execution_count": 41,
   "id": "c2587f80-9613-4267-9055-517aaccc18ae",
   "metadata": {
    "scrolled": true
   },
   "outputs": [
    {
     "name": "stdout",
     "output_type": "stream",
     "text": [
      "Each fold size: 14045\n",
      "0 0.3839088643645425\n",
      "1 0.3656105375578498\n",
      "2 0.3589177643289427\n",
      "3 0.3505873976504094\n",
      "4 0.3607689569241723\n",
      "5 0.35172659309362764\n",
      "6 0.3289426842292631\n",
      "7 0.33072267710929154\n",
      "8 0.3187611249555002\n",
      "9 0.31434674261302953\n",
      "mean accuracy 0.34642933428266287\n"
     ]
    }
   ],
   "source": [
    "num_folds = 10\n",
    "cross_validation_accuracy(num_folds, train_set)"
   ]
  },
  {
   "cell_type": "code",
   "execution_count": 42,
   "id": "464f81de-bc17-473b-9f84-5b084030932f",
   "metadata": {},
   "outputs": [],
   "source": [
    "goldlist = []\n",
    "predictedlist = []\n",
    "for (features, label) in test_set:\n",
    "    goldlist.append(label)\n",
    "    predictedlist.append(classifier.classify(features))"
   ]
  },
  {
   "cell_type": "code",
   "execution_count": 43,
   "id": "4c8f13c1-78f7-42ab-b8e0-5dd7a1b0f3d3",
   "metadata": {},
   "outputs": [
    {
     "name": "stdout",
     "output_type": "stream",
     "text": [
      "\tPrecision\tRecall\t\tF1\n",
      "0 \t      0.594      0.092      0.159\n",
      "1 \t      0.207      0.247      0.225\n",
      "2 \t      0.508      0.751      0.606\n",
      "3 \t      0.309      0.318      0.313\n",
      "4 \t      0.226      0.185      0.204\n"
     ]
    }
   ],
   "source": [
    "eval_measures(goldlist, predictedlist)"
   ]
  },
  {
   "cell_type": "code",
   "execution_count": null,
   "id": "16ecad5b-d9e6-41dc-b8ed-882a2ab8c935",
   "metadata": {},
   "outputs": [],
   "source": []
  },
  {
   "cell_type": "code",
   "execution_count": null,
   "id": "59e4a76a-7c03-4ad3-9837-949eb506fb32",
   "metadata": {},
   "outputs": [],
   "source": []
  },
  {
   "cell_type": "code",
   "execution_count": null,
   "id": "54b928a0-cbf6-4f3b-a423-5b4e0f997e7c",
   "metadata": {},
   "outputs": [],
   "source": [
    "# LIWC Sentiment Analysis Lemmatization SciKit "
   ]
  },
  {
   "cell_type": "code",
   "execution_count": null,
   "id": "26633e20-560c-4945-8485-9ac9ffd4ab86",
   "metadata": {},
   "outputs": [],
   "source": []
  },
  {
   "cell_type": "code",
   "execution_count": 65,
   "id": "890f7271-b244-48f0-b1d7-ac89aeff47f5",
   "metadata": {},
   "outputs": [],
   "source": []
  },
  {
   "cell_type": "code",
   "execution_count": 258,
   "id": "b935bb14-ada4-47ef-8252-67b54f4760cd",
   "metadata": {},
   "outputs": [],
   "source": [
    "from sklearn.linear_model import LogisticRegression"
   ]
  },
  {
   "cell_type": "code",
   "execution_count": 278,
   "id": "e301f510-1379-4318-9125-23c3f8bcacde",
   "metadata": {},
   "outputs": [],
   "source": [
    "vectorized_documents = vectorize_feature_documents(liwc_feature)\n",
    "vectorized_documents = convert_list_of_dictionary_to_scikit_usable_list_Uneven_Lists_LIWC(vectorized_documents)"
   ]
  },
  {
   "cell_type": "code",
   "execution_count": 279,
   "id": "a5ba91c7-e8c3-4994-b7fc-605d91f577ab",
   "metadata": {},
   "outputs": [],
   "source": [
    "vectorized_rating = vectorize_feature_rating(NOT_featuresets)"
   ]
  },
  {
   "cell_type": "code",
   "execution_count": 280,
   "id": "a862dbf9-6016-415a-96c7-6225b992841f",
   "metadata": {},
   "outputs": [],
   "source": [
    "size = int(len(vectorized_documents) * 0.1)\n",
    "train_predictors, test_predictors = vectorized_documents[size:], vectorized_documents[:size]"
   ]
  },
  {
   "cell_type": "code",
   "execution_count": 281,
   "id": "77f5e91f-1b7f-4ad6-a176-1383a6a2750c",
   "metadata": {},
   "outputs": [],
   "source": [
    "size = int(len(vectorized_rating) * 0.1)\n",
    "train_rating, test_rating = vectorized_rating[size:], vectorized_rating[:size]"
   ]
  },
  {
   "cell_type": "code",
   "execution_count": 263,
   "id": "79304628-1bfc-46bb-b17e-405b9b851ee1",
   "metadata": {},
   "outputs": [],
   "source": [
    "clf = LogisticRegression(C=1.0, solver='lbfgs', multi_class='ovr')"
   ]
  },
  {
   "cell_type": "code",
   "execution_count": 264,
   "id": "1ce2c2be-fe50-49a9-8661-7601db7d12aa",
   "metadata": {},
   "outputs": [
    {
     "name": "stderr",
     "output_type": "stream",
     "text": [
      "C:\\Users\\daedr\\anaconda3\\Lib\\site-packages\\sklearn\\linear_model\\_logistic.py:458: ConvergenceWarning: lbfgs failed to converge (status=1):\n",
      "STOP: TOTAL NO. of ITERATIONS REACHED LIMIT.\n",
      "\n",
      "Increase the number of iterations (max_iter) or scale the data as shown in:\n",
      "    https://scikit-learn.org/stable/modules/preprocessing.html\n",
      "Please also refer to the documentation for alternative solver options:\n",
      "    https://scikit-learn.org/stable/modules/linear_model.html#logistic-regression\n",
      "  n_iter_i = _check_optimize_result(\n"
     ]
    },
    {
     "data": {
      "text/html": [
       "<style>#sk-container-id-5 {color: black;background-color: white;}#sk-container-id-5 pre{padding: 0;}#sk-container-id-5 div.sk-toggleable {background-color: white;}#sk-container-id-5 label.sk-toggleable__label {cursor: pointer;display: block;width: 100%;margin-bottom: 0;padding: 0.3em;box-sizing: border-box;text-align: center;}#sk-container-id-5 label.sk-toggleable__label-arrow:before {content: \"▸\";float: left;margin-right: 0.25em;color: #696969;}#sk-container-id-5 label.sk-toggleable__label-arrow:hover:before {color: black;}#sk-container-id-5 div.sk-estimator:hover label.sk-toggleable__label-arrow:before {color: black;}#sk-container-id-5 div.sk-toggleable__content {max-height: 0;max-width: 0;overflow: hidden;text-align: left;background-color: #f0f8ff;}#sk-container-id-5 div.sk-toggleable__content pre {margin: 0.2em;color: black;border-radius: 0.25em;background-color: #f0f8ff;}#sk-container-id-5 input.sk-toggleable__control:checked~div.sk-toggleable__content {max-height: 200px;max-width: 100%;overflow: auto;}#sk-container-id-5 input.sk-toggleable__control:checked~label.sk-toggleable__label-arrow:before {content: \"▾\";}#sk-container-id-5 div.sk-estimator input.sk-toggleable__control:checked~label.sk-toggleable__label {background-color: #d4ebff;}#sk-container-id-5 div.sk-label input.sk-toggleable__control:checked~label.sk-toggleable__label {background-color: #d4ebff;}#sk-container-id-5 input.sk-hidden--visually {border: 0;clip: rect(1px 1px 1px 1px);clip: rect(1px, 1px, 1px, 1px);height: 1px;margin: -1px;overflow: hidden;padding: 0;position: absolute;width: 1px;}#sk-container-id-5 div.sk-estimator {font-family: monospace;background-color: #f0f8ff;border: 1px dotted black;border-radius: 0.25em;box-sizing: border-box;margin-bottom: 0.5em;}#sk-container-id-5 div.sk-estimator:hover {background-color: #d4ebff;}#sk-container-id-5 div.sk-parallel-item::after {content: \"\";width: 100%;border-bottom: 1px solid gray;flex-grow: 1;}#sk-container-id-5 div.sk-label:hover label.sk-toggleable__label {background-color: #d4ebff;}#sk-container-id-5 div.sk-serial::before {content: \"\";position: absolute;border-left: 1px solid gray;box-sizing: border-box;top: 0;bottom: 0;left: 50%;z-index: 0;}#sk-container-id-5 div.sk-serial {display: flex;flex-direction: column;align-items: center;background-color: white;padding-right: 0.2em;padding-left: 0.2em;position: relative;}#sk-container-id-5 div.sk-item {position: relative;z-index: 1;}#sk-container-id-5 div.sk-parallel {display: flex;align-items: stretch;justify-content: center;background-color: white;position: relative;}#sk-container-id-5 div.sk-item::before, #sk-container-id-5 div.sk-parallel-item::before {content: \"\";position: absolute;border-left: 1px solid gray;box-sizing: border-box;top: 0;bottom: 0;left: 50%;z-index: -1;}#sk-container-id-5 div.sk-parallel-item {display: flex;flex-direction: column;z-index: 1;position: relative;background-color: white;}#sk-container-id-5 div.sk-parallel-item:first-child::after {align-self: flex-end;width: 50%;}#sk-container-id-5 div.sk-parallel-item:last-child::after {align-self: flex-start;width: 50%;}#sk-container-id-5 div.sk-parallel-item:only-child::after {width: 0;}#sk-container-id-5 div.sk-dashed-wrapped {border: 1px dashed gray;margin: 0 0.4em 0.5em 0.4em;box-sizing: border-box;padding-bottom: 0.4em;background-color: white;}#sk-container-id-5 div.sk-label label {font-family: monospace;font-weight: bold;display: inline-block;line-height: 1.2em;}#sk-container-id-5 div.sk-label-container {text-align: center;}#sk-container-id-5 div.sk-container {/* jupyter's `normalize.less` sets `[hidden] { display: none; }` but bootstrap.min.css set `[hidden] { display: none !important; }` so we also need the `!important` here to be able to override the default hidden behavior on the sphinx rendered scikit-learn.org. See: https://github.com/scikit-learn/scikit-learn/issues/21755 */display: inline-block !important;position: relative;}#sk-container-id-5 div.sk-text-repr-fallback {display: none;}</style><div id=\"sk-container-id-5\" class=\"sk-top-container\"><div class=\"sk-text-repr-fallback\"><pre>LogisticRegression(multi_class=&#x27;ovr&#x27;)</pre><b>In a Jupyter environment, please rerun this cell to show the HTML representation or trust the notebook. <br />On GitHub, the HTML representation is unable to render, please try loading this page with nbviewer.org.</b></div><div class=\"sk-container\" hidden><div class=\"sk-item\"><div class=\"sk-estimator sk-toggleable\"><input class=\"sk-toggleable__control sk-hidden--visually\" id=\"sk-estimator-id-5\" type=\"checkbox\" checked><label for=\"sk-estimator-id-5\" class=\"sk-toggleable__label sk-toggleable__label-arrow\">LogisticRegression</label><div class=\"sk-toggleable__content\"><pre>LogisticRegression(multi_class=&#x27;ovr&#x27;)</pre></div></div></div></div></div>"
      ],
      "text/plain": [
       "LogisticRegression(multi_class='ovr')"
      ]
     },
     "execution_count": 264,
     "metadata": {},
     "output_type": "execute_result"
    }
   ],
   "source": [
    "clf.fit(train_predictors, train_rating)"
   ]
  },
  {
   "cell_type": "code",
   "execution_count": 265,
   "id": "9dbebe3f-84b2-4d6a-80df-4d5a04f4b4bb",
   "metadata": {},
   "outputs": [
    {
     "name": "stdout",
     "output_type": "stream",
     "text": [
      "Accuracy: 0.5756760220428041\n"
     ]
    }
   ],
   "source": [
    "score = clf.score(test_predictors, test_rating)\n",
    "print(\"Accuracy:\", score)"
   ]
  },
  {
   "cell_type": "code",
   "execution_count": null,
   "id": "1c633bf6-c3db-4a9f-a1c8-89815c58f592",
   "metadata": {},
   "outputs": [],
   "source": [
    "# Neural Network"
   ]
  },
  {
   "cell_type": "code",
   "execution_count": 266,
   "id": "6020758f-125b-4d36-be4e-042630199c5f",
   "metadata": {},
   "outputs": [],
   "source": [
    "import sklearn.neural_network \n",
    "\n",
    "neural_network = sklearn.neural_network.MLPClassifier(hidden_layer_sizes=(10, 10), activation='relu')\n",
    "neural_network.fit(train_predictors, train_rating) \n",
    "y_pred = neural_network.predict(test_predictors)"
   ]
  },
  {
   "cell_type": "code",
   "execution_count": 267,
   "id": "01d851f5-b681-42da-a372-6dfee7fd9ef7",
   "metadata": {},
   "outputs": [],
   "source": [
    "from sklearn.metrics import accuracy_score"
   ]
  },
  {
   "cell_type": "code",
   "execution_count": 268,
   "id": "afb7fffb-3532-4d84-be2e-d7eb7447646c",
   "metadata": {},
   "outputs": [
    {
     "data": {
      "text/plain": [
       "0.5894527745738818"
      ]
     },
     "execution_count": 268,
     "metadata": {},
     "output_type": "execute_result"
    }
   ],
   "source": [
    "accuracy_score(test_rating, y_pred)"
   ]
  },
  {
   "cell_type": "code",
   "execution_count": 269,
   "id": "0d35d247-624c-4b4c-95c8-9671f716283c",
   "metadata": {},
   "outputs": [
    {
     "name": "stdout",
     "output_type": "stream",
     "text": [
      "Accuracy: 0.5347943098808151\n"
     ]
    }
   ],
   "source": [
    "from sklearn.tree import DecisionTreeClassifier\n",
    "clf = DecisionTreeClassifier()\n",
    "clf.fit(train_predictors, train_rating)\n",
    "y_pred = clf.predict(test_predictors)\n",
    "accuracy = accuracy_score(test_rating, y_pred)\n",
    "\n",
    "print('Accuracy:', accuracy)"
   ]
  },
  {
   "cell_type": "code",
   "execution_count": null,
   "id": "413344eb-b0ae-47f6-a0d8-eaad0e842295",
   "metadata": {},
   "outputs": [],
   "source": []
  },
  {
   "cell_type": "code",
   "execution_count": null,
   "id": "3447701f-00ef-45f8-94e4-f93aacf6b250",
   "metadata": {},
   "outputs": [],
   "source": []
  },
  {
   "cell_type": "code",
   "execution_count": null,
   "id": "e6912f6d-219c-4fd5-bc8a-7fc3cc7158b7",
   "metadata": {},
   "outputs": [],
   "source": [
    "# SUBJECTIVITY and NEGATION Features combined Lemmatization"
   ]
  },
  {
   "cell_type": "code",
   "execution_count": null,
   "id": "f6921de6-2121-4320-bce9-c173aa1c8cd4",
   "metadata": {},
   "outputs": [],
   "source": []
  },
  {
   "cell_type": "code",
   "execution_count": null,
   "id": "9f2d2d93-0496-475d-b80c-2e6c8f1b95b4",
   "metadata": {},
   "outputs": [],
   "source": []
  },
  {
   "cell_type": "code",
   "execution_count": 372,
   "id": "07f65350-0b4d-49c5-bd17-e7ed20fc3349",
   "metadata": {},
   "outputs": [],
   "source": [
    "lemmatization_pure_string = convert_list_of_list_to_list_of_string(phrases_lemmatized)\n",
    "most_used_words_tuple = most_common_used_words(lemmatization_pure_string, 500)\n",
    "most_used_words_list = get_only_words_from_tuple(most_used_words_tuple)\n",
    "\n",
    "document = []\n",
    "i = 0\n",
    "while i < len(phrases_lemmatized):\n",
    "    document.append( (phrases_lemmatized[i], sentiment[i]) )\n",
    "    i += 1\n",
    "\n",
    "SL_featuresets = [(SL_features(d, most_used_words_list, SL), c) for (d, c) in document]"
   ]
  },
  {
   "cell_type": "code",
   "execution_count": 373,
   "id": "59d76e71-40df-4112-882e-3c8b6a92eab2",
   "metadata": {},
   "outputs": [],
   "source": [
    "lemmatization_pure_string = convert_list_of_list_to_list_of_string(phrases_lemmatized)\n",
    "most_used_words_tuple = most_common_used_words(lemmatization_pure_string, 500)\n",
    "most_used_words_list = get_only_words_from_tuple(most_used_words_tuple)\n",
    "\n",
    "document = []\n",
    "i = 0\n",
    "while i < len(lemmatization_pure_string):\n",
    "    document.append( (lemmatization_pure_string[i], sentiment[i]) )\n",
    "    i += 1\n",
    "\n",
    "NOT_featuresets = [(NOT_features(d, most_used_words_list, negationwords), c) for (d, c) in document]"
   ]
  },
  {
   "cell_type": "code",
   "execution_count": 376,
   "id": "1dcd8c02-a2e6-43ce-9e73-606fa799154e",
   "metadata": {},
   "outputs": [],
   "source": [
    "i = 0\n",
    "while i < len(SL_featuresets):\n",
    "    SL_featuresets[i][0].update(NOT_featuresets[i][0])\n",
    "    i += 1"
   ]
  },
  {
   "cell_type": "code",
   "execution_count": null,
   "id": "fd235027-e6db-4248-9067-4a4946c2228f",
   "metadata": {},
   "outputs": [],
   "source": []
  },
  {
   "cell_type": "code",
   "execution_count": 378,
   "id": "15907a15-2439-40b4-a24b-35996f049b3b",
   "metadata": {},
   "outputs": [
    {
     "data": {
      "text/plain": [
       "0.36742278610790724"
      ]
     },
     "execution_count": 378,
     "metadata": {},
     "output_type": "execute_result"
    }
   ],
   "source": [
    "size = int(len(SL_featuresets) * 0.1)\n",
    "train_set, test_set = SL_featuresets[size:], SL_featuresets[:size]\n",
    "classifier = nltk.NaiveBayesClassifier.train(train_set)\n",
    "nltk.classify.accuracy(classifier, test_set)"
   ]
  },
  {
   "cell_type": "code",
   "execution_count": 379,
   "id": "3a6019e6-550d-4264-9844-20523867936c",
   "metadata": {},
   "outputs": [
    {
     "name": "stdout",
     "output_type": "stream",
     "text": [
      "Each fold size: 14045\n",
      "0 0.33300106799572804\n",
      "1 0.31391954432182273\n",
      "2 0.2943396226415094\n",
      "3 0.28892844428622283\n",
      "4 0.2798860804556782\n",
      "5 0.27739409042363833\n",
      "6 0.2633677465290139\n",
      "7 0.257315770736917\n",
      "8 0.27020291918832323\n",
      "9 0.2512637949448202\n",
      "mean accuracy 0.28296190815236744\n"
     ]
    }
   ],
   "source": [
    "num_folds = 10\n",
    "cross_validation_accuracy(num_folds, train_set)"
   ]
  },
  {
   "cell_type": "code",
   "execution_count": 380,
   "id": "c35349bd-efac-49c0-b2ed-ee9e0f16575b",
   "metadata": {},
   "outputs": [
    {
     "name": "stdout",
     "output_type": "stream",
     "text": [
      "\tPrecision\tRecall\t\tF1\n",
      "0 \t      0.401      0.092      0.149\n",
      "1 \t      0.145      0.207      0.170\n",
      "2 \t      0.467      0.752      0.576\n",
      "3 \t      0.286      0.218      0.248\n",
      "4 \t      0.263      0.106      0.151\n"
     ]
    }
   ],
   "source": [
    "goldlist = []\n",
    "predictedlist = []\n",
    "for (features, label) in test_set:\n",
    "    goldlist.append(label)\n",
    "    predictedlist.append(classifier.classify(features))\n",
    "\n",
    "eval_measures(goldlist, predictedlist)"
   ]
  },
  {
   "cell_type": "code",
   "execution_count": 381,
   "id": "10be994c-55d9-4e31-aad3-13c91df3da38",
   "metadata": {},
   "outputs": [
    {
     "name": "stdout",
     "output_type": "stream",
     "text": [
      "Accuracy: 0.5606177111367423\n"
     ]
    }
   ],
   "source": [
    "# Regression\n",
    "from sklearn.linear_model import LogisticRegression\n",
    "\n",
    "vectorized_documents = vectorize_feature_documents(SL_featuresets)\n",
    "vectorized_documents = convert_list_of_dictionary_to_scikit_usable_list_Uneven_Lists_LIWC(vectorized_documents)\n",
    "vectorized_rating = vectorize_feature_rating(SL_featuresets)\n",
    "size = int(len(vectorized_documents) * 0.1)\n",
    "train_predictors, test_predictors = vectorized_documents[size:], vectorized_documents[:size]\n",
    "size = int(len(vectorized_rating) * 0.1)\n",
    "train_rating, test_rating = vectorized_rating[size:], vectorized_rating[:size]\n",
    "clf = LogisticRegression(C=1.0, solver='lbfgs', multi_class='ovr')\n",
    "clf.fit(train_predictors, train_rating)\n",
    "score = clf.score(test_predictors, test_rating)\n",
    "print(\"Accuracy:\", score)"
   ]
  },
  {
   "cell_type": "code",
   "execution_count": 382,
   "id": "b95c503c-6ee8-44f1-8453-79042cc1a0ed",
   "metadata": {},
   "outputs": [
    {
     "data": {
      "text/plain": [
       "0.5609381007304882"
      ]
     },
     "execution_count": 382,
     "metadata": {},
     "output_type": "execute_result"
    }
   ],
   "source": [
    "# Neural Network\n",
    "import sklearn.neural_network \n",
    "\n",
    "neural_network = sklearn.neural_network.MLPClassifier(hidden_layer_sizes=(10, 10), activation='relu')\n",
    "neural_network.fit(train_predictors, train_rating) \n",
    "y_pred = neural_network.predict(test_predictors)\n",
    "\n",
    "from sklearn.metrics import accuracy_score\n",
    "\n",
    "accuracy_score(test_rating, y_pred)"
   ]
  },
  {
   "cell_type": "code",
   "execution_count": 383,
   "id": "f84ad4dc-2899-485e-a868-6834aa771279",
   "metadata": {},
   "outputs": [
    {
     "name": "stdout",
     "output_type": "stream",
     "text": [
      "Accuracy: 0.5602332436242471\n"
     ]
    }
   ],
   "source": [
    "# Decision Tree\n",
    "from sklearn.tree import DecisionTreeClassifier\n",
    "clf = DecisionTreeClassifier()\n",
    "clf.fit(train_predictors, train_rating)\n",
    "y_pred = clf.predict(test_predictors)\n",
    "accuracy = accuracy_score(test_rating, y_pred)\n",
    "\n",
    "print('Accuracy:', accuracy)"
   ]
  },
  {
   "cell_type": "code",
   "execution_count": null,
   "id": "a796dbb0-2afb-4eaf-89d6-206490582674",
   "metadata": {},
   "outputs": [],
   "source": []
  },
  {
   "cell_type": "code",
   "execution_count": null,
   "id": "59f59032-aa7a-4146-8482-c45dab788868",
   "metadata": {},
   "outputs": [],
   "source": []
  },
  {
   "cell_type": "code",
   "execution_count": null,
   "id": "b829d00e-27a7-45d4-9696-870a64c7d179",
   "metadata": {},
   "outputs": [],
   "source": [
    "# SUBJECTIVITY and NEGATION Features combined Original Dataset"
   ]
  },
  {
   "cell_type": "code",
   "execution_count": null,
   "id": "7972d683-41f5-4eb4-b9f9-9550c7a5c6d6",
   "metadata": {},
   "outputs": [],
   "source": []
  },
  {
   "cell_type": "code",
   "execution_count": null,
   "id": "9af3497b-dc83-45f2-b017-709653d9dfff",
   "metadata": {},
   "outputs": [],
   "source": []
  },
  {
   "cell_type": "code",
   "execution_count": 384,
   "id": "515cf429-a238-46b4-abbb-2b2ca9305703",
   "metadata": {},
   "outputs": [],
   "source": [
    "most_used_words_tuple = most_common_used_words(phrases, 500)\n",
    "most_used_words_list = get_only_words_from_tuple(most_used_words_tuple)\n",
    "\n",
    "document = []\n",
    "i = 0\n",
    "while i < len(phrases_lemmatized):\n",
    "    document.append( (phrases_lemmatized[i], sentiment[i]) )\n",
    "    i += 1\n",
    "\n",
    "SL_featuresets = [(SL_features(d, most_used_words_list, SL), c) for (d, c) in document]"
   ]
  },
  {
   "cell_type": "code",
   "execution_count": 385,
   "id": "94b44c25-1bc6-44ca-8c29-1f1f6a0876a0",
   "metadata": {},
   "outputs": [],
   "source": [
    "most_used_words_tuple = most_common_used_words(phrases, 500)\n",
    "most_used_words_list = get_only_words_from_tuple(most_used_words_tuple)\n",
    "\n",
    "document = []\n",
    "i = 0\n",
    "while i < len(lemmatization_pure_string):\n",
    "    document.append( (lemmatization_pure_string[i], sentiment[i]) )\n",
    "    i += 1\n",
    "\n",
    "NOT_featuresets = [(NOT_features(d, most_used_words_list, negationwords), c) for (d, c) in document]"
   ]
  },
  {
   "cell_type": "code",
   "execution_count": 386,
   "id": "2b9a8891-95e4-4e87-8801-ed912f86b3da",
   "metadata": {},
   "outputs": [],
   "source": [
    "i = 0\n",
    "while i < len(SL_featuresets):\n",
    "    SL_featuresets[i][0].update(NOT_featuresets[i][0])\n",
    "    i += 1"
   ]
  },
  {
   "cell_type": "code",
   "execution_count": 387,
   "id": "deda3f96-bdb2-4fef-875f-39e67c3817a5",
   "metadata": {},
   "outputs": [
    {
     "data": {
      "text/plain": [
       "0.3402537485582468"
      ]
     },
     "execution_count": 387,
     "metadata": {},
     "output_type": "execute_result"
    }
   ],
   "source": [
    "size = int(len(SL_featuresets) * 0.1)\n",
    "train_set, test_set = SL_featuresets[size:], SL_featuresets[:size]\n",
    "classifier = nltk.NaiveBayesClassifier.train(train_set)\n",
    "nltk.classify.accuracy(classifier, test_set)"
   ]
  },
  {
   "cell_type": "code",
   "execution_count": 388,
   "id": "da0f5b5e-8b22-4fa3-940e-6739df415c9a",
   "metadata": {},
   "outputs": [
    {
     "name": "stdout",
     "output_type": "stream",
     "text": [
      "Each fold size: 14045\n",
      "0 0.3013171947312211\n",
      "1 0.2865076539693841\n",
      "2 0.2672125311498754\n",
      "3 0.25788536845852617\n",
      "4 0.2533997864008544\n",
      "5 0.24727661089355643\n",
      "6 0.23645425418298327\n",
      "7 0.2296190815236739\n",
      "8 0.24279102883588466\n",
      "9 0.22862228551085795\n",
      "mean accuracy 0.2551085795656817\n"
     ]
    }
   ],
   "source": [
    "num_folds = 10\n",
    "cross_validation_accuracy(num_folds, train_set)"
   ]
  },
  {
   "cell_type": "code",
   "execution_count": 389,
   "id": "30b4691a-44bc-4728-84d9-5b9e279926ce",
   "metadata": {},
   "outputs": [
    {
     "name": "stdout",
     "output_type": "stream",
     "text": [
      "\tPrecision\tRecall\t\tF1\n",
      "0 \t      0.436      0.093      0.154\n",
      "1 \t      0.163      0.195      0.177\n",
      "2 \t      0.407      0.761      0.530\n",
      "3 \t      0.294      0.216      0.249\n",
      "4 \t      0.275      0.106      0.153\n"
     ]
    }
   ],
   "source": [
    "goldlist = []\n",
    "predictedlist = []\n",
    "for (features, label) in test_set:\n",
    "    goldlist.append(label)\n",
    "    predictedlist.append(classifier.classify(features))\n",
    "\n",
    "eval_measures(goldlist, predictedlist)"
   ]
  },
  {
   "cell_type": "code",
   "execution_count": 390,
   "id": "03038299-0dbb-41c8-a039-f96278c1b871",
   "metadata": {},
   "outputs": [
    {
     "name": "stdout",
     "output_type": "stream",
     "text": [
      "Accuracy: 0.5602332436242471\n"
     ]
    }
   ],
   "source": [
    "# Regression\n",
    "from sklearn.linear_model import LogisticRegression\n",
    "\n",
    "vectorized_documents = vectorize_feature_documents(SL_featuresets)\n",
    "vectorized_documents = convert_list_of_dictionary_to_scikit_usable_list_Uneven_Lists_LIWC(vectorized_documents)\n",
    "vectorized_rating = vectorize_feature_rating(SL_featuresets)\n",
    "size = int(len(vectorized_documents) * 0.1)\n",
    "train_predictors, test_predictors = vectorized_documents[size:], vectorized_documents[:size]\n",
    "size = int(len(vectorized_rating) * 0.1)\n",
    "train_rating, test_rating = vectorized_rating[size:], vectorized_rating[:size]\n",
    "clf = LogisticRegression(C=1.0, solver='lbfgs', multi_class='ovr')\n",
    "clf.fit(train_predictors, train_rating)\n",
    "score = clf.score(test_predictors, test_rating)\n",
    "print(\"Accuracy:\", score)"
   ]
  },
  {
   "cell_type": "code",
   "execution_count": 391,
   "id": "db26e7f6-d839-409f-be68-cb78a87a4cba",
   "metadata": {},
   "outputs": [
    {
     "data": {
      "text/plain": [
       "0.5602973215429963"
      ]
     },
     "execution_count": 391,
     "metadata": {},
     "output_type": "execute_result"
    }
   ],
   "source": [
    "# Neural Network\n",
    "import sklearn.neural_network \n",
    "\n",
    "neural_network = sklearn.neural_network.MLPClassifier(hidden_layer_sizes=(10, 10), activation='relu')\n",
    "neural_network.fit(train_predictors, train_rating) \n",
    "y_pred = neural_network.predict(test_predictors)\n",
    "\n",
    "from sklearn.metrics import accuracy_score\n",
    "\n",
    "accuracy_score(test_rating, y_pred)"
   ]
  },
  {
   "cell_type": "code",
   "execution_count": 392,
   "id": "786d68ea-ef1f-4318-977f-83951601ef38",
   "metadata": {},
   "outputs": [
    {
     "name": "stdout",
     "output_type": "stream",
     "text": [
      "Accuracy: 0.5595283865180058\n"
     ]
    }
   ],
   "source": [
    "# Decision Tree\n",
    "from sklearn.tree import DecisionTreeClassifier\n",
    "clf = DecisionTreeClassifier()\n",
    "clf.fit(train_predictors, train_rating)\n",
    "y_pred = clf.predict(test_predictors)\n",
    "accuracy = accuracy_score(test_rating, y_pred)\n",
    "\n",
    "print('Accuracy:', accuracy)"
   ]
  },
  {
   "cell_type": "code",
   "execution_count": null,
   "id": "e4d71ed8-c4a1-4ac1-96b6-5f7e08c0a2d4",
   "metadata": {},
   "outputs": [],
   "source": []
  }
 ],
 "metadata": {
  "kernelspec": {
   "display_name": "Python 3 (ipykernel)",
   "language": "python",
   "name": "python3"
  },
  "language_info": {
   "codemirror_mode": {
    "name": "ipython",
    "version": 3
   },
   "file_extension": ".py",
   "mimetype": "text/x-python",
   "name": "python",
   "nbconvert_exporter": "python",
   "pygments_lexer": "ipython3",
   "version": "3.11.7"
  }
 },
 "nbformat": 4,
 "nbformat_minor": 5
}
